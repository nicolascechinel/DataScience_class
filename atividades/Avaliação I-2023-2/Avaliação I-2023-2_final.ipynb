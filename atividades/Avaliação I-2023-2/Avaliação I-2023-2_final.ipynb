{
 "cells": [
  {
   "cell_type": "markdown",
   "metadata": {},
   "source": [
    "#### DEC7551-05655 (20232) - Tópicos Especiais I\n",
    "#### Avaliação I (21/09/2023) "
   ]
  },
  {
   "cell_type": "code",
   "execution_count": 3,
   "metadata": {},
   "outputs": [],
   "source": [
    "import numpy as np\n",
    "import pandas as pd\n",
    "import os\n",
    "from math import sqrt\n",
    "import matplotlib.pyplot as plt\n",
    "from numpy import NaN\n",
    "plt.rc('figure', figsize=(10, 5))"
   ]
  },
  {
   "cell_type": "markdown",
   "metadata": {},
   "source": [
    "##### 1) Considerando duas listas, ou outra estrutura, que em cada posição das listas existirão valores numéricos positivos, elabore uma função para o cálculo do ângulo vetorial através da equação do cosseno, conforme equação abaixo (1,0):\n",
    "\n",
    "A similaridade entre dois vetores não zerados pode ser calculado utilizando a medida do cosseno. A partir de dois vetores n-dimensionais, A e B, a similaridade do cosseno, cos(θ), é calculada utilizando o produto dos pontos dos dois vetores dividido pela multiplicação da norma desses vetores:<br> \n",
    "![cosine](cosine.png)\n",
    "\n",
    "Ao final, apresente alguns exemplos de execução da função. O valor do cosseno deve ficar entre 0 e 1.\n",
    "\n",
    "Obs: Será necessário importar a biblioteca math -> import math"
   ]
  },
  {
   "cell_type": "code",
   "execution_count": 11,
   "metadata": {},
   "outputs": [
    {
     "name": "stdout",
     "output_type": "stream",
     "text": [
      "0.8055088703614588\n",
      "nan\n",
      "1.0\n"
     ]
    }
   ],
   "source": [
    "\n",
    "import math\n",
    "\n",
    "def angulo_vetorial(x,y):\n",
    "    #verifica se tem algum valor nulo ou 0\n",
    "    if 0 in x or 0 in y:\n",
    "        return NaN\n",
    "    \n",
    "    x = np.array(x)\n",
    "    y = np.array(y)\n",
    "    return x.dot(y) / (np.linalg.norm(x) * np.linalg.norm(y)) # angulo entre 0 e 1\n",
    "\n",
    "\n",
    "print(angulo_vetorial([1,2,3],[4,5,1000]))\n",
    "print(angulo_vetorial([1,2,3],[0,0,0]))\n",
    "print(angulo_vetorial([1,2,3],[1,2,3]))"
   ]
  },
  {
   "cell_type": "markdown",
   "metadata": {},
   "source": [
    "##### 2) Considerando o conjunto de arquivos disponibilizado para esta avaliação, presentes em diferentes diretórios, elabore um código em Python que realize a carga desses arquivos de maneira iterativa e ao final integre todos os arquivos em um DataFrame (1,0):"
   ]
  },
  {
   "cell_type": "code",
   "execution_count": 13,
   "metadata": {},
   "outputs": [
    {
     "data": {
      "text/html": [
       "<div>\n",
       "<style scoped>\n",
       "    .dataframe tbody tr th:only-of-type {\n",
       "        vertical-align: middle;\n",
       "    }\n",
       "\n",
       "    .dataframe tbody tr th {\n",
       "        vertical-align: top;\n",
       "    }\n",
       "\n",
       "    .dataframe thead th {\n",
       "        text-align: right;\n",
       "    }\n",
       "</style>\n",
       "<table border=\"1\" class=\"dataframe\">\n",
       "  <thead>\n",
       "    <tr style=\"text-align: right;\">\n",
       "      <th></th>\n",
       "      <th>nome</th>\n",
       "      <th>id_inscricao</th>\n",
       "      <th>curso</th>\n",
       "      <th>graduacao_completa</th>\n",
       "      <th>especializacao_completa</th>\n",
       "      <th>mestrado_completo</th>\n",
       "      <th>trabalhos_eventos_nacionais</th>\n",
       "      <th>trabalhos_eventos_internacionais</th>\n",
       "      <th>artigos_sem_qualis</th>\n",
       "      <th>artigos_qualis_b5_c</th>\n",
       "      <th>...</th>\n",
       "      <th>tempo_docencia</th>\n",
       "      <th>nota_cv</th>\n",
       "      <th>area</th>\n",
       "      <th>tematica_1</th>\n",
       "      <th>tematica_2</th>\n",
       "      <th>tematica_3</th>\n",
       "      <th>tematica_4</th>\n",
       "      <th>tematica_5</th>\n",
       "      <th>nota_producao_bibliografica</th>\n",
       "      <th>nota_producao_tecnica_tecnologica</th>\n",
       "    </tr>\n",
       "  </thead>\n",
       "  <tbody>\n",
       "    <tr>\n",
       "      <th>0</th>\n",
       "      <td>Candidato 3</td>\n",
       "      <td>2022-19282</td>\n",
       "      <td>Doutorado</td>\n",
       "      <td>Sim</td>\n",
       "      <td>Sim</td>\n",
       "      <td>Sim</td>\n",
       "      <td>0</td>\n",
       "      <td>0</td>\n",
       "      <td>0</td>\n",
       "      <td>1</td>\n",
       "      <td>...</td>\n",
       "      <td>1</td>\n",
       "      <td>2,930399</td>\n",
       "      <td>Engenharia do Conhecimento</td>\n",
       "      <td>temática 10</td>\n",
       "      <td>temática 11</td>\n",
       "      <td>temática 15</td>\n",
       "      <td>tematica 18</td>\n",
       "      <td>tematica 19</td>\n",
       "      <td>0</td>\n",
       "      <td>6</td>\n",
       "    </tr>\n",
       "    <tr>\n",
       "      <th>1</th>\n",
       "      <td>Candidato 5</td>\n",
       "      <td>2022-08626</td>\n",
       "      <td>Mestrado</td>\n",
       "      <td>Sim</td>\n",
       "      <td>Não</td>\n",
       "      <td>Não</td>\n",
       "      <td>0</td>\n",
       "      <td>1</td>\n",
       "      <td>0</td>\n",
       "      <td>0</td>\n",
       "      <td>...</td>\n",
       "      <td>0</td>\n",
       "      <td>2,655652</td>\n",
       "      <td>Mídia do Conhecimento</td>\n",
       "      <td>temática 9</td>\n",
       "      <td>temática 13</td>\n",
       "      <td>temática 14</td>\n",
       "      <td>tematica 2</td>\n",
       "      <td>tematica 10</td>\n",
       "      <td>4</td>\n",
       "      <td>0</td>\n",
       "    </tr>\n",
       "    <tr>\n",
       "      <th>2</th>\n",
       "      <td>Candidato 4</td>\n",
       "      <td>2022-05828</td>\n",
       "      <td>Mestrado</td>\n",
       "      <td>Sim</td>\n",
       "      <td>Sim</td>\n",
       "      <td>Não</td>\n",
       "      <td>1</td>\n",
       "      <td>0</td>\n",
       "      <td>0</td>\n",
       "      <td>0</td>\n",
       "      <td>...</td>\n",
       "      <td>0</td>\n",
       "      <td>2,128293</td>\n",
       "      <td>Gestão do Conhecimento</td>\n",
       "      <td>temática 1</td>\n",
       "      <td>temática 3</td>\n",
       "      <td>temática 5</td>\n",
       "      <td>tematica 6</td>\n",
       "      <td>tematica 9</td>\n",
       "      <td>2</td>\n",
       "      <td>5</td>\n",
       "    </tr>\n",
       "    <tr>\n",
       "      <th>3</th>\n",
       "      <td>Candidato 6</td>\n",
       "      <td>2022-28322</td>\n",
       "      <td>Mestrado</td>\n",
       "      <td>Sim</td>\n",
       "      <td>Sim</td>\n",
       "      <td>Não</td>\n",
       "      <td>0</td>\n",
       "      <td>2</td>\n",
       "      <td>0</td>\n",
       "      <td>0</td>\n",
       "      <td>...</td>\n",
       "      <td>0</td>\n",
       "      <td>2,893722</td>\n",
       "      <td>Engenharia do Conhecimento</td>\n",
       "      <td>temática 10</td>\n",
       "      <td>temática 11</td>\n",
       "      <td>temática 16</td>\n",
       "      <td>tematica 17</td>\n",
       "      <td>tematica 18</td>\n",
       "      <td>4</td>\n",
       "      <td>2</td>\n",
       "    </tr>\n",
       "    <tr>\n",
       "      <th>4</th>\n",
       "      <td>Candidato 2</td>\n",
       "      <td>2022-02812</td>\n",
       "      <td>Doutorado</td>\n",
       "      <td>Sim</td>\n",
       "      <td>Não</td>\n",
       "      <td>Sim</td>\n",
       "      <td>1</td>\n",
       "      <td>0</td>\n",
       "      <td>0</td>\n",
       "      <td>0</td>\n",
       "      <td>...</td>\n",
       "      <td>1</td>\n",
       "      <td>4,122232</td>\n",
       "      <td>Mídia do Conhecimento</td>\n",
       "      <td>temática 1</td>\n",
       "      <td>temática 9</td>\n",
       "      <td>temática 10</td>\n",
       "      <td>tematica 13</td>\n",
       "      <td>tematica 14</td>\n",
       "      <td>5</td>\n",
       "      <td>6</td>\n",
       "    </tr>\n",
       "  </tbody>\n",
       "</table>\n",
       "<p>5 rows × 31 columns</p>\n",
       "</div>"
      ],
      "text/plain": [
       "          nome id_inscricao      curso graduacao_completa  \\\n",
       "0  Candidato 3   2022-19282  Doutorado                Sim   \n",
       "1  Candidato 5   2022-08626   Mestrado                Sim   \n",
       "2  Candidato 4   2022-05828   Mestrado                Sim   \n",
       "3  Candidato 6   2022-28322   Mestrado                Sim   \n",
       "4  Candidato 2   2022-02812  Doutorado                Sim   \n",
       "\n",
       "  especializacao_completa mestrado_completo  trabalhos_eventos_nacionais  \\\n",
       "0                     Sim               Sim                            0   \n",
       "1                     Não               Não                            0   \n",
       "2                     Sim               Não                            1   \n",
       "3                     Sim               Não                            0   \n",
       "4                     Não               Sim                            1   \n",
       "\n",
       "   trabalhos_eventos_internacionais  artigos_sem_qualis  artigos_qualis_b5_c  \\\n",
       "0                                 0                   0                    1   \n",
       "1                                 1                   0                    0   \n",
       "2                                 0                   0                    0   \n",
       "3                                 2                   0                    0   \n",
       "4                                 0                   0                    0   \n",
       "\n",
       "   ...  tempo_docencia   nota_cv                        area   tematica_1  \\\n",
       "0  ...               1  2,930399  Engenharia do Conhecimento  temática 10   \n",
       "1  ...               0  2,655652       Mídia do Conhecimento   temática 9   \n",
       "2  ...               0  2,128293      Gestão do Conhecimento   temática 1   \n",
       "3  ...               0  2,893722  Engenharia do Conhecimento  temática 10   \n",
       "4  ...               1  4,122232       Mídia do Conhecimento   temática 1   \n",
       "\n",
       "    tematica_2   tematica_3   tematica_4   tematica_5  \\\n",
       "0  temática 11  temática 15  tematica 18  tematica 19   \n",
       "1  temática 13  temática 14   tematica 2  tematica 10   \n",
       "2   temática 3   temática 5   tematica 6   tematica 9   \n",
       "3  temática 11  temática 16  tematica 17  tematica 18   \n",
       "4   temática 9  temática 10  tematica 13  tematica 14   \n",
       "\n",
       "   nota_producao_bibliografica  nota_producao_tecnica_tecnologica  \n",
       "0                            0                                  6  \n",
       "1                            4                                  0  \n",
       "2                            2                                  5  \n",
       "3                            4                                  2  \n",
       "4                            5                                  6  \n",
       "\n",
       "[5 rows x 31 columns]"
      ]
     },
     "execution_count": 13,
     "metadata": {},
     "output_type": "execute_result"
    }
   ],
   "source": [
    "\n",
    "\n",
    "def csv_files(get_path = None):\n",
    "    #Substitua path pela sua pasta onde estão os arquivos csv\n",
    "    path = get_path\n",
    "    list_paths = []\n",
    "    for root, dirs, files in os.walk(path):\n",
    "        for file in files:\n",
    "            if file.endswith('.csv'):\n",
    "                list_paths.append(os.path.join(root, file))\n",
    "\n",
    "    # Criando um dataframe vazio\n",
    "    df = pd.DataFrame()\n",
    "\n",
    "    # Loop para carregar os arquivos csv\n",
    "    for path in list_paths:\n",
    "        df_temp = pd.read_csv(path, sep=\";\")\n",
    "        df = pd.concat([df, df_temp], ignore_index=True)\n",
    "    return df\n",
    "\n",
    "df = csv_files(\"/workspaces/DataScience_class/atividades/Avaliação I-2023-2/Arquivos/Questão 2\")\n",
    "df.head()\n",
    "\n"
   ]
  },
  {
   "cell_type": "markdown",
   "metadata": {},
   "source": [
    "##### 3) Considerando as colunas abaixo calcule a similaridade vetorial entre todos os pares distintos de candidatos usando a função elaborada na questão 1. O resultado deve ser armazenado em um dataframe. Na sequência, para cada linha que representa um candidato, apresente o candidato mais similar com a respectiva similaridade excluindo-se o candidato de origem (1,5):\n",
    "\n",
    "1 - trabalhos_eventos_nacionais<br>\n",
    "2 - trabalhos_eventos_internacionais<br>\n",
    "3 - artigos_sem_qualis<br>\n",
    "4 - artigos_qualis_b5_c<br>\n",
    "5 - artigos_qualis_b3_b4<br>\n",
    "6 - artigos_qualis_b1_b2<br>\n",
    "7 - artigos_qualis_a1_a2<br>\n",
    "8 - livros_publicados<br>\n",
    "9 - capitulos_livros<br>\n",
    "10 - livros_organizados<br>\n",
    "11 - participacao_projeto_pesquisa<br>\n",
    "12 - coordenacao_projeto_pesquisa<br>\n",
    "13 - software_produto_sem_registro<br>\n",
    "14 - software_produto_com_registro "
   ]
  },
  {
   "cell_type": "code",
   "execution_count": 63,
   "metadata": {},
   "outputs": [],
   "source": [
    "#calculando o angulo vetorial entre todos os pares distintos de candidatos das colunas trabalhos_eventos_nacionais trabalhos_eventos_internacionais artigos_sem_qualis artigos_qualis_b5_c artigos_qualis_b3_b4 artigos_qualis_b1_b2 artigos_qualis_a1_a2 livros_publicados capitulos_livros livros_organizados participacao_projeto_pesquisa coordenacao_projeto_pesquisa software_produto_sem_registro software_produto_com_registro  \n",
    "\n",
    "df_input = csv_files(\"/workspaces/DataScience_class/atividades/Avaliação I-2023-2/Arquivos/Questão 2\")\n",
    "\n",
    "#funcao compara todos os pares de candidatos e retorna o angulo vetorial de cada um num dataframe\n",
    "def compara_candidatos(df_input):\n",
    "    df_candidatos = pd.DataFrame()\n",
    "    for i in range(len(df_input)):\n",
    "        for j in range(len(df_input)):\n",
    "            if i != j:\n",
    "                df_candidatos = pd.concat([df_candidatos, pd.DataFrame({'candidato_1': df_input.iloc[i]['nome'], 'candidato_2': df_input.iloc[j]['nome'], 'angulo_vetorial': angulo_vetorial(df_input.iloc[i][2:], df_input.iloc[j][2:])}, index=[0])], ignore_index=True)\n",
    "                \n",
    "    return df_candidatos\n",
    "\n",
    "\n"
   ]
  },
  {
   "cell_type": "markdown",
   "metadata": {},
   "source": [
    "##### 4) Considerando os dados carregados no DataFrame da questão 2 crie uma nova coluna em que o valor deve ser calculado com base na seguinte equação (1,0):\n",
    "\n",
    "media_final = ((nota_cv / máxima nota por curso * 10) * 0,4) + (nota_producao_bibliografica * 0,4) + (nota_producao_tecnica_tecnologica * 0,2) \n",
    "\n",
    "##### Considerando a nova coluna (media_final) apresente uma lista ordenada por curso e média final em ordem descresente contendo o nome do candidato, o curso, a área e a média final. O resultado deve também ser salvo em um arquivo no formato CSV."
   ]
  },
  {
   "cell_type": "markdown",
   "metadata": {},
   "source": [
    "##### 5) Considerando os dados carregados no DataFrame da questão 2 crie duas análises. A primeira, agregando (realizando a soma ou média) por curso os dados da coluna \"media_final\". A segunda,  utilizando o conceito de tabela de pivoteamento com função de agregação de soma em que nas linhas deve constar a coluna \"curso\" e nas colunas deve constar a coluna \"area\". Para cada uma das análise apresente também gráficos de barras ou linhas (1,0).   "
   ]
  },
  {
   "cell_type": "markdown",
   "metadata": {},
   "source": [
    "##### 6) Considerando o DataFrame da questão 2 agrege os dados das colunas tematica_1, tematica_2, tematica_3, tematica_4, tematica_5 por meio de uma contagem, de modo que, ao final, seja produzido um histograma ordenado pela frequência em ordem decrescente. Apresente as 7 temáticas mais frequentes na tela e também na forma de um gráfico de barras (1,5).\n",
    "\n",
    "Exempo:\n",
    "\n",
    "Temática 2 - 3<br>\n",
    "Temática 4 - 2<br>\n",
    "Temática 5 - 2<br>\n",
    "...."
   ]
  },
  {
   "cell_type": "markdown",
   "metadata": {},
   "source": [
    "##### 7) Carregue o arquivo movie.csv. Após isso, para cada valor distinto na coluna genres (que devem ser separados cada vez que o caracter | ocorre) gere novas colunas e incorpore ao conjunto original atribuíndo 1. Após isso recupere o conteúdo de um intervalo de linhas do conjunto de dados (1,0)."
   ]
  },
  {
   "cell_type": "markdown",
   "metadata": {},
   "source": [
    "##### 8) Considerado o conjunto tae.csv e as bibliotecas em Python apresentadas na disciplina, elabore uma árvore de decisão. Após isso reduza a profundidade da árvore. Apresente a acurácia inicial e após a redução da profundidade. Analisando a árvore gerada apresente/escreva duas regras. O conjunto de dados representa avaliações de desempenho no ensino ao longo de alguns semestres e possui as colunas 'ta_native', 'course_instr', 'course', 'summer_regular', 'class_size' e 'label'. A coluna ‘label’ representa o atributo meta, ou seja, o objetivo da classificação (1,0). "
   ]
  },
  {
   "cell_type": "markdown",
   "metadata": {},
   "source": [
    "##### 9) Utilizando o conjunto de dados (wine.csv) e as bibliotecas em Python apresentadas na disciplina, elabore um algoritmo de aprendizado de máquina do tipo Random Forest. Apresenta a acurácia inicial do modelo. Na sequência calcule a contribuição de cada característica e realize novamente o treinamento e o teste sem algumas das características menos importantes, apresentando no final a nova acurácia (1,0). "
   ]
  },
  {
   "cell_type": "markdown",
   "metadata": {},
   "source": [
    "##### 10) Questão adicional - Utilizando alguma API obtenha dados de fontes que contenham dados abertos, tais como, redes sociais ou web sites. A partir disso, realize as devidas transformações para que os dados coletados sejam estruturados em um DataFrame do Pandas. Com os dados estruturados utilize alguma função de agregação (soma, média, contagem) projetando o resultado por meio de algum gráfico (1,0). Obs: recupere somente dados que estejam disponíveis por meio da API utilizada. "
   ]
  }
 ],
 "metadata": {
  "kernelspec": {
   "display_name": "Python 3.10.4 64-bit",
   "language": "python",
   "name": "python3"
  },
  "language_info": {
   "codemirror_mode": {
    "name": "ipython",
    "version": 3
   },
   "file_extension": ".py",
   "mimetype": "text/x-python",
   "name": "python",
   "nbconvert_exporter": "python",
   "pygments_lexer": "ipython3",
   "version": "3.11.5"
  },
  "orig_nbformat": 4,
  "vscode": {
   "interpreter": {
    "hash": "ea6272f363b121ac906328f9784414c4ff46af3cd325e9810fe97e6b132ab5cd"
   }
  }
 },
 "nbformat": 4,
 "nbformat_minor": 2
}
