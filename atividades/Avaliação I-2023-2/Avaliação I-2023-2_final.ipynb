{
 "cells": [
  {
   "cell_type": "markdown",
   "metadata": {},
   "source": [
    "#### DEC7551-05655 (20232) - Tópicos Especiais I\n",
    "#### Avaliação I (21/09/2023) "
   ]
  },
  {
   "cell_type": "code",
   "execution_count": 1,
   "metadata": {},
   "outputs": [],
   "source": [
    "import numpy as np\n",
    "import pandas as pd\n",
    "import os\n",
    "from math import sqrt\n",
    "import matplotlib.pyplot as plt\n",
    "from numpy import NaN\n",
    "plt.rc('figure', figsize=(10, 5))"
   ]
  },
  {
   "cell_type": "markdown",
   "metadata": {},
   "source": [
    "##### 1) Considerando duas listas, ou outra estrutura, que em cada posição das listas existirão valores numéricos positivos, elabore uma função para o cálculo do ângulo vetorial através da equação do cosseno, conforme equação abaixo (1,0):\n",
    "\n",
    "A similaridade entre dois vetores não zerados pode ser calculado utilizando a medida do cosseno. A partir de dois vetores n-dimensionais, A e B, a similaridade do cosseno, cos(θ), é calculada utilizando o produto dos pontos dos dois vetores dividido pela multiplicação da norma desses vetores:<br> \n",
    "![cosine](cosine.png)\n",
    "\n",
    "Ao final, apresente alguns exemplos de execução da função. O valor do cosseno deve ficar entre 0 e 1.\n",
    "\n",
    "Obs: Será necessário importar a biblioteca math -> import math"
   ]
  },
  {
   "cell_type": "markdown",
   "metadata": {},
   "source": [
    "##### 2) Considerando o conjunto de arquivos disponibilizado para esta avaliação, presentes em diferentes diretórios, elabore um código em Python que realize a carga desses arquivos de maneira iterativa e ao final integre todos os arquivos em um DataFrame (1,0):"
   ]
  },
  {
   "cell_type": "markdown",
   "metadata": {},
   "source": [
    "##### 3) Considerando as colunas abaixo calcule a similaridade vetorial entre todos os pares distintos de candidatos usando a função elaborada na questão 1. O resultado deve ser armazenado em um dataframe. Na sequência, para cada linha que representa um candidato, apresente o candidato mais similar com a respectiva similaridade excluindo-se o candidato de origem (1,5):\n",
    "\n",
    "1 - trabalhos_eventos_nacionais<br>\n",
    "2 - trabalhos_eventos_internacionais<br>\n",
    "3 - artigos_sem_qualis<br>\n",
    "4 - artigos_qualis_b5_c<br>\n",
    "5 - artigos_qualis_b3_b4<br>\n",
    "6 - artigos_qualis_b1_b2<br>\n",
    "7 - artigos_qualis_a1_a2<br>\n",
    "8 - livros_publicados<br>\n",
    "9 - capitulos_livros<br>\n",
    "10 - livros_organizados<br>\n",
    "11 - participacao_projeto_pesquisa<br>\n",
    "12 - coordenacao_projeto_pesquisa<br>\n",
    "13 - software_produto_sem_registro<br>\n",
    "14 - software_produto_com_registro "
   ]
  },
  {
   "cell_type": "markdown",
   "metadata": {},
   "source": [
    "##### 4) Considerando os dados carregados no DataFrame da questão 2 crie uma nova coluna em que o valor deve ser calculado com base na seguinte equação (1,0):\n",
    "\n",
    "media_final = ((nota_cv / máxima nota por curso * 10) * 0,4) + (nota_producao_bibliografica * 0,4) + (nota_producao_tecnica_tecnologica * 0,2) \n",
    "\n",
    "##### Considerando a nova coluna (media_final) apresente uma lista ordenada por curso e média final em ordem descresente contendo o nome do candidato, o curso, a área e a média final. O resultado deve também ser salvo em um arquivo no formato CSV."
   ]
  },
  {
   "cell_type": "markdown",
   "metadata": {},
   "source": [
    "##### 5) Considerando os dados carregados no DataFrame da questão 2 crie duas análises. A primeira, agregando (realizando a soma ou média) por curso os dados da coluna \"media_final\". A segunda,  utilizando o conceito de tabela de pivoteamento com função de agregação de soma em que nas linhas deve constar a coluna \"curso\" e nas colunas deve constar a coluna \"area\". Para cada uma das análise apresente também gráficos de barras ou linhas (1,0).   "
   ]
  },
  {
   "cell_type": "markdown",
   "metadata": {},
   "source": [
    "##### 6) Considerando o DataFrame da questão 2 agrege os dados das colunas tematica_1, tematica_2, tematica_3, tematica_4, tematica_5 por meio de uma contagem, de modo que, ao final, seja produzido um histograma ordenado pela frequência em ordem decrescente. Apresente as 7 temáticas mais frequentes na tela e também na forma de um gráfico de barras (1,5).\n",
    "\n",
    "Exempo:\n",
    "\n",
    "Temática 2 - 3<br>\n",
    "Temática 4 - 2<br>\n",
    "Temática 5 - 2<br>\n",
    "...."
   ]
  },
  {
   "cell_type": "markdown",
   "metadata": {},
   "source": [
    "##### 7) Carregue o arquivo movie.csv. Após isso, para cada valor distinto na coluna genres (que devem ser separados cada vez que o caracter | ocorre) gere novas colunas e incorpore ao conjunto original atribuíndo 1. Após isso recupere o conteúdo de um intervalo de linhas do conjunto de dados (1,0)."
   ]
  },
  {
   "cell_type": "markdown",
   "metadata": {},
   "source": [
    "##### 8) Considerado o conjunto tae.csv e as bibliotecas em Python apresentadas na disciplina, elabore uma árvore de decisão. Após isso reduza a profundidade da árvore. Apresente a acurácia inicial e após a redução da profundidade. Analisando a árvore gerada apresente/escreva duas regras. O conjunto de dados representa avaliações de desempenho no ensino ao longo de alguns semestres e possui as colunas 'ta_native', 'course_instr', 'course', 'summer_regular', 'class_size' e 'label'. A coluna ‘label’ representa o atributo meta, ou seja, o objetivo da classificação (1,0). "
   ]
  },
  {
   "cell_type": "markdown",
   "metadata": {},
   "source": [
    "##### 9) Utilizando o conjunto de dados (wine.csv) e as bibliotecas em Python apresentadas na disciplina, elabore um algoritmo de aprendizado de máquina do tipo Random Forest. Apresenta a acurácia inicial do modelo. Na sequência calcule a contribuição de cada característica e realize novamente o treinamento e o teste sem algumas das características menos importantes, apresentando no final a nova acurácia (1,0). "
   ]
  },
  {
   "cell_type": "markdown",
   "metadata": {},
   "source": [
    "##### 10) Questão adicional - Utilizando alguma API obtenha dados de fontes que contenham dados abertos, tais como, redes sociais ou web sites. A partir disso, realize as devidas transformações para que os dados coletados sejam estruturados em um DataFrame do Pandas. Com os dados estruturados utilize alguma função de agregação (soma, média, contagem) projetando o resultado por meio de algum gráfico (1,0). Obs: recupere somente dados que estejam disponíveis por meio da API utilizada. "
   ]
  }
 ],
 "metadata": {
  "kernelspec": {
   "display_name": "Python 3.10.4 64-bit",
   "language": "python",
   "name": "python3"
  },
  "language_info": {
   "codemirror_mode": {
    "name": "ipython",
    "version": 3
   },
   "file_extension": ".py",
   "mimetype": "text/x-python",
   "name": "python",
   "nbconvert_exporter": "python",
   "pygments_lexer": "ipython3",
   "version": "3.10.9"
  },
  "orig_nbformat": 4,
  "vscode": {
   "interpreter": {
    "hash": "ea6272f363b121ac906328f9784414c4ff46af3cd325e9810fe97e6b132ab5cd"
   }
  }
 },
 "nbformat": 4,
 "nbformat_minor": 2
}
