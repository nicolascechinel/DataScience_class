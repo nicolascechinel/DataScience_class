{
 "cells": [
  {
   "cell_type": "code",
   "execution_count": 9,
   "metadata": {},
   "outputs": [],
   "source": [
    "# Importe as bibliotecas necessárias\n",
    "import re\n",
    "from collections import Counter\n"
   ]
  },
  {
   "cell_type": "code",
   "execution_count": 10,
   "metadata": {},
   "outputs": [],
   "source": [
    "with open('ciência_de_dados.txt', 'r', encoding='iso-8859-1') as arquivo:\n",
    "    texto = arquivo.read()"
   ]
  },
  {
   "cell_type": "code",
   "execution_count": 15,
   "metadata": {},
   "outputs": [
    {
     "name": "stdout",
     "output_type": "stream",
     "text": [
      "[('de', 17), ('dados', 8), ('e', 7), ('a', 5), ('ciência', 4), ('o', 4), ('como', 4), ('em', 3), ('data', 3), ('para', 3)]\n"
     ]
    }
   ],
   "source": [
    "# Divida o texto em palavras usando expressões regulares\n",
    "palavras = re.findall(r'\\b\\w+\\b', texto.lower())  # Isso divide o texto em palavras, convertendo todas as letras em minúsculas\n",
    "\n",
    "# Conte a frequência de cada palavra\n",
    "contagem_palavras = Counter(palavras)\n",
    "\n",
    "# Converta a contagem de palavras em um dicionário\n",
    "dicionario_contagem = dict(contagem_palavras)\n",
    "\n",
    "# Exiba as 10 palavras mais frequentes, por exemplo\n",
    "print(contagem_palavras.most_common(10))"
   ]
  },
  {
   "cell_type": "code",
   "execution_count": 14,
   "metadata": {},
   "outputs": [
    {
     "name": "stdout",
     "output_type": "stream",
     "text": [
      "            Palavra  Frequência\n",
      "0           ciência           4\n",
      "1                de          17\n",
      "2             dados           8\n",
      "3                em           3\n",
      "4            inglês           1\n",
      "..              ...         ...\n",
      "95              org           1\n",
      "96             wiki           1\n",
      "97               ci           1\n",
      "98               c3           1\n",
      "99  aancia_de_dados           1\n",
      "\n",
      "[100 rows x 2 columns]\n"
     ]
    }
   ],
   "source": [
    "# Importe a biblioteca pandas\n",
    "import pandas as pd\n",
    "\n",
    "# Crie um DataFrame a partir do dicionário de contagem\n",
    "df = pd.DataFrame.from_dict(dicionario_contagem, orient='index', columns=['Frequência'])\n",
    "\n",
    "# Reset o índice para tornar as palavras uma coluna\n",
    "df.reset_index(inplace=True)\n",
    "df.rename(columns={'index': 'Palavra'}, inplace=True)\n",
    "\n",
    "# Exiba o DataFrame\n",
    "print(df)\n"
   ]
  }
 ],
 "metadata": {
  "kernelspec": {
   "display_name": "base",
   "language": "python",
   "name": "python3"
  },
  "language_info": {
   "codemirror_mode": {
    "name": "ipython",
    "version": 3
   },
   "file_extension": ".py",
   "mimetype": "text/x-python",
   "name": "python",
   "nbconvert_exporter": "python",
   "pygments_lexer": "ipython3",
   "version": "3.11.4"
  },
  "orig_nbformat": 4
 },
 "nbformat": 4,
 "nbformat_minor": 2
}
