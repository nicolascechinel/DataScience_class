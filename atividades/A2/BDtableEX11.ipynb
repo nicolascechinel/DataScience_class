{
 "cells": [
  {
   "cell_type": "markdown",
   "metadata": {},
   "source": [
    "## Exercicio 11"
   ]
  },
  {
   "cell_type": "code",
   "execution_count": null,
   "metadata": {},
   "outputs": [],
   "source": [
    "import sqlite3\n"
   ]
  },
  {
   "cell_type": "code",
   "execution_count": null,
   "metadata": {},
   "outputs": [],
   "source": [
    "# Conectar ao banco de dados (ou criar um novo se não existir)\n",
    "conn = sqlite3.connect('biblioteca.db')\n",
    "\n",
    "# Criar um cursor para executar comandos SQL\n",
    "cursor = conn.cursor()\n",
    "\n",
    "# Criar a tabela de autores\n",
    "cursor.execute('''\n",
    "    CREATE TABLE IF NOT EXISTS Autores (\n",
    "        AutorID INTEGER PRIMARY KEY,\n",
    "        Nome TEXT NOT NULL\n",
    "    )\n",
    "''')\n",
    "\n",
    "# Criar a tabela de livros com uma coluna AutorID para representar o relacionamento 1:N\n",
    "cursor.execute('''\n",
    "    CREATE TABLE IF NOT EXISTS Livros (\n",
    "        LivroID INTEGER PRIMARY KEY,\n",
    "        Titulo TEXT NOT NULL,\n",
    "        AutorID INTEGER,\n",
    "        FOREIGN KEY (AutorID) REFERENCES Autores(AutorID)\n",
    "    )\n",
    "''')\n",
    "\n",
    "# Inserir alguns autores\n",
    "cursor.execute(\"INSERT INTO Autores (Nome) VALUES ('Autor 1')\")\n",
    "cursor.execute(\"INSERT INTO Autores (Nome) VALUES ('Autor 2')\")\n",
    "\n",
    "# Inserir alguns livros associados a autores\n",
    "cursor.execute(\"INSERT INTO Livros (Titulo, AutorID) VALUES ('Livro 1', 1)\")\n",
    "cursor.execute(\"INSERT INTO Livros (Titulo, AutorID) VALUES ('Livro 2', 1)\")\n",
    "cursor.execute(\"INSERT INTO Livros (Titulo, AutorID) VALUES ('Livro 3', 2)\")\n",
    "\n",
    "# Salvar as alterações no banco de dados\n",
    "conn.commit()\n",
    "\n",
    "# Fechar a conexão com o banco de dados\n",
    "conn.close()\n"
   ]
  },
  {
   "cell_type": "markdown",
   "metadata": {},
   "source": [
    "## Exercicio 12\n"
   ]
  },
  {
   "cell_type": "code",
   "execution_count": null,
   "metadata": {},
   "outputs": [],
   "source": [
    "\n",
    "# Conectar ao banco de dados\n",
    "conn = sqlite3.connect('biblioteca.db')\n",
    "\n",
    "# Criar um cursor para executar comandos SQL\n",
    "cursor = conn.cursor()\n",
    "\n",
    "# Consulta que relaciona as tabelas 'Autores' e 'Livros'\n",
    "cursor.execute('''\n",
    "    SELECT Autores.Nome, Livros.Titulo\n",
    "    FROM Autores\n",
    "    JOIN Livros ON Autores.AutorID = Livros.AutorID\n",
    "''')\n",
    "\n",
    "# Recuperar os resultados da consulta\n",
    "resultados = cursor.fetchall()\n",
    "\n",
    "# Exibir os resultados\n",
    "for resultado in resultados:\n",
    "    autor_nome, livro_titulo = resultado\n",
    "    print(f'Autor: {autor_nome}, Livro: {livro_titulo}')\n",
    "\n",
    "# Fechar a conexão com o banco de dados\n",
    "conn.close()\n"
   ]
  },
  {
   "cell_type": "markdown",
   "metadata": {},
   "source": [
    "## Exercicio 13\n"
   ]
  },
  {
   "cell_type": "code",
   "execution_count": null,
   "metadata": {},
   "outputs": [],
   "source": [
    "# Conectar ao banco de dados\n",
    "conn = sqlite3.connect('biblioteca.db')\n",
    "\n",
    "# Criar um cursor para executar comandos SQL\n",
    "cursor = conn.cursor()\n",
    "\n",
    "# Atualizar dados em algumas linhas da tabela 'Autores'\n",
    "cursor.execute(\"UPDATE Autores SET Nome = 'Novo Nome' WHERE AutorID = 1\")\n",
    "\n",
    "# Eliminar linhas da tabela 'Livros' (por exemplo, eliminar o livro com LivroID = 2)\n",
    "cursor.execute(\"DELETE FROM Livros WHERE LivroID = 2\")\n",
    "\n",
    "# Salvar as alterações no banco de dados\n",
    "conn.commit()\n",
    "\n",
    "# Fechar a conexão com o banco de dados\n",
    "conn.close()\n"
   ]
  },
  {
   "cell_type": "code",
   "execution_count": null,
   "metadata": {},
   "outputs": [],
   "source": [
    "!conda install pymongo"
   ]
  },
  {
   "cell_type": "markdown",
   "metadata": {},
   "source": [
    "## Exercicio 14\n"
   ]
  },
  {
   "cell_type": "code",
   "execution_count": null,
   "metadata": {},
   "outputs": [],
   "source": [
    "\n",
    "import pymongo\n",
    "\n",
    "# Conectar ao servidor MongoDB\n",
    "client = pymongo.MongoClient(\"mongodb://localhost:27017/\")\n",
    "\n",
    "# Selecionar o banco de dados\n",
    "db = client[\"biblioteca\"]\n",
    "\n",
    "# Selecionar a coleção\n",
    "colecao = db[\"livros\"]\n",
    "\n",
    "# Definir o critério de atualização (por exemplo, atualizar todos os livros de um autor específico)\n",
    "critério = {\"autor\": \"Autor 1\"}\n",
    "\n",
    "# Definir a atualização desejada (por exemplo, atualizar o título)\n",
    "nova_informacao = {\"$set\": {\"titulo\": \"Novo Título\"}}\n",
    "\n",
    "# Executar a atualização\n",
    "resultado = colecao.update_many(critério, nova_informacao)\n",
    "\n",
    "# Exibir o número de documentos atualizados\n",
    "print(f\"Documentos atualizados: {resultado.modified_count}\")\n",
    "\n",
    "# Fechar a conexão com o servidor MongoDB\n",
    "client.close()\n",
    "\n"
   ]
  },
  {
   "cell_type": "markdown",
   "metadata": {},
   "source": [
    "## Exercicio 15"
   ]
  },
  {
   "cell_type": "code",
   "execution_count": null,
   "metadata": {},
   "outputs": [],
   "source": [
    "import pymongo\n",
    "\n",
    "# Conectar ao servidor MongoDB\n",
    "client = pymongo.MongoClient(\"mongodb://localhost:27017/\")\n",
    "\n",
    "# Selecionar o banco de dados\n",
    "db = client[\"biblioteca\"]\n",
    "\n",
    "# Selecionar a coleção\n",
    "colecao = db[\"livros\"]\n",
    "\n",
    "# Definir o critério de exclusão (por exemplo, excluir todos os livros de um autor específico)\n",
    "critério = {\"autor\": \"Autor 1\"}\n",
    "\n",
    "# Executar a exclusão\n",
    "resultado = colecao.delete_many(critério)\n",
    "\n",
    "# Exibir o número de documentos excluídos\n",
    "print(f\"Documentos excluídos: {resultado.deleted_count}\")\n",
    "\n",
    "# Fechar a conexão com o servidor MongoDB\n",
    "client.close()\n"
   ]
  },
  {
   "cell_type": "markdown",
   "metadata": {},
   "source": [
    "## Exercicio 16"
   ]
  },
  {
   "cell_type": "code",
   "execution_count": 8,
   "metadata": {},
   "outputs": [
    {
     "name": "stdout",
     "output_type": "stream",
     "text": [
      "Subclasse: H01L, Frequência: 205\n",
      "Subclasse: A61B, Frequência: 165\n",
      "Subclasse: A61K, Frequência: 141\n",
      "Subclasse: G01N, Frequência: 95\n",
      "Subclasse: A61F, Frequência: 89\n",
      "Subclasse: A61M, Frequência: 82\n",
      "Subclasse: C12N, Frequência: 71\n",
      "Subclasse: H01M, Frequência: 67\n",
      "Subclasse: B32B, Frequência: 65\n",
      "Subclasse: B01D, Frequência: 60\n"
     ]
    }
   ],
   "source": [
    "import json\n",
    "from collections import Counter\n",
    "\n",
    "# Carregue o arquivo JSON\n",
    "with open('2015_USPTOf.json', 'r', encoding='utf-8') as file:\n",
    "    data = json.load(file)\n",
    "\n",
    "# Crie uma lista para armazenar todas as subclasses\n",
    "subclasses = []\n",
    "\n",
    "# Percorra os dados e separe os valores do atributo Subclass_labels\n",
    "for item in data:\n",
    "    if 'Subclass_labels' in item:\n",
    "        subclass_labels = item['Subclass_labels']\n",
    "        subclasses.extend(subclass_labels)\n",
    "\n",
    "# Conte a frequência de cada valor de subclasse\n",
    "contagem_subclasses = Counter(subclasses)\n",
    "\n",
    "# Liste as 10 subclasses mais comuns em ordem decrescente de frequência\n",
    "mais_comuns = contagem_subclasses.most_common(10)\n",
    "\n",
    "# Exiba as 10 subclasses mais comuns com suas respectivas frequências\n",
    "for subclass, frequencia in mais_comuns:\n",
    "    print(f'Subclasse: {subclass}, Frequência: {frequencia}')\n"
   ]
  }
 ],
 "metadata": {
  "kernelspec": {
   "display_name": "base",
   "language": "python",
   "name": "python3"
  },
  "language_info": {
   "codemirror_mode": {
    "name": "ipython",
    "version": 3
   },
   "file_extension": ".py",
   "mimetype": "text/x-python",
   "name": "python",
   "nbconvert_exporter": "python",
   "pygments_lexer": "ipython3",
   "version": "3.11.4"
  },
  "orig_nbformat": 4
 },
 "nbformat": 4,
 "nbformat_minor": 2
}
