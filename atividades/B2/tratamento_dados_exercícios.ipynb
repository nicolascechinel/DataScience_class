{
 "cells": [
  {
   "cell_type": "code",
   "execution_count": 17,
   "metadata": {},
   "outputs": [],
   "source": [
    "import pandas as pd\n",
    "import numpy as np"
   ]
  },
  {
   "cell_type": "markdown",
   "metadata": {},
   "source": [
    "## 1) Crie um conjunto de dados com dois níveis hierárquicos de linhas e  colunas."
   ]
  },
  {
   "cell_type": "code",
   "execution_count": 47,
   "metadata": {},
   "outputs": [
    {
     "data": {
      "text/html": [
       "<div>\n",
       "<style scoped>\n",
       "    .dataframe tbody tr th:only-of-type {\n",
       "        vertical-align: middle;\n",
       "    }\n",
       "\n",
       "    .dataframe tbody tr th {\n",
       "        vertical-align: top;\n",
       "    }\n",
       "\n",
       "    .dataframe thead th {\n",
       "        text-align: right;\n",
       "    }\n",
       "</style>\n",
       "<table border=\"1\" class=\"dataframe\">\n",
       "  <thead>\n",
       "    <tr style=\"text-align: right;\">\n",
       "      <th></th>\n",
       "      <th></th>\n",
       "      <th>Coluna 1</th>\n",
       "      <th>Coluna 2</th>\n",
       "      <th>Coluna 3</th>\n",
       "      <th>Coluna 4</th>\n",
       "    </tr>\n",
       "    <tr>\n",
       "      <th>Nível 1</th>\n",
       "      <th>Nível 2</th>\n",
       "      <th></th>\n",
       "      <th></th>\n",
       "      <th></th>\n",
       "      <th></th>\n",
       "    </tr>\n",
       "  </thead>\n",
       "  <tbody>\n",
       "    <tr>\n",
       "      <th rowspan=\"2\" valign=\"top\">A</th>\n",
       "      <th>1</th>\n",
       "      <td>67</td>\n",
       "      <td>77</td>\n",
       "      <td>46</td>\n",
       "      <td>77</td>\n",
       "    </tr>\n",
       "    <tr>\n",
       "      <th>2</th>\n",
       "      <td>30</td>\n",
       "      <td>32</td>\n",
       "      <td>16</td>\n",
       "      <td>36</td>\n",
       "    </tr>\n",
       "    <tr>\n",
       "      <th rowspan=\"2\" valign=\"top\">B</th>\n",
       "      <th>1</th>\n",
       "      <td>82</td>\n",
       "      <td>78</td>\n",
       "      <td>30</td>\n",
       "      <td>16</td>\n",
       "    </tr>\n",
       "    <tr>\n",
       "      <th>2</th>\n",
       "      <td>77</td>\n",
       "      <td>25</td>\n",
       "      <td>50</td>\n",
       "      <td>15</td>\n",
       "    </tr>\n",
       "  </tbody>\n",
       "</table>\n",
       "</div>"
      ],
      "text/plain": [
       "                 Coluna 1  Coluna 2  Coluna 3  Coluna 4\n",
       "Nível 1 Nível 2                                        \n",
       "A       1              67        77        46        77\n",
       "        2              30        32        16        36\n",
       "B       1              82        78        30        16\n",
       "        2              77        25        50        15"
      ]
     },
     "execution_count": 47,
     "metadata": {},
     "output_type": "execute_result"
    }
   ],
   "source": [
    "# Crie um índice hierárquico de linhas\n",
    "index = pd.MultiIndex.from_product([['A', 'B'], [1, 2]], names=['Nível 1', 'Nível 2'])\n",
    "\n",
    "# Crie um DataFrame com valores aleatórios\n",
    "data = np.random.randint(1, 100, size=(4, 4))\n",
    "\n",
    "df = pd.DataFrame(data, index=index, columns=['Coluna 1', 'Coluna 2', 'Coluna 3', 'Coluna 4'])\n",
    "\n",
    "df\n",
    "\n",
    "\n"
   ]
  },
  {
   "cell_type": "markdown",
   "metadata": {},
   "source": [
    "## 2) A partir dos conjunto de dados realize operações de soma, média, mínimo e máximo considerando os níveis de hierarquia das linhas."
   ]
  },
  {
   "cell_type": "code",
   "execution_count": 49,
   "metadata": {},
   "outputs": [
    {
     "name": "stdout",
     "output_type": "stream",
     "text": [
      "Soma por Nível 1:\n",
      "          Coluna 1  Coluna 2  Coluna 3  Coluna 4\n",
      "Nível 1                                        \n",
      "A              97       109        62       113\n",
      "B             159       103        80        31\n",
      "\n",
      "Média por Nível 2:\n",
      "          Coluna 1  Coluna 2  Coluna 3  Coluna 4\n",
      "Nível 2                                        \n",
      "1            74.5      77.5      38.0      46.5\n",
      "2            53.5      28.5      33.0      25.5\n",
      "\n",
      "Mínimo por Nível 1:\n",
      "          Coluna 1  Coluna 2  Coluna 3  Coluna 4\n",
      "Nível 1                                        \n",
      "A              30        32        16        36\n",
      "B              77        25        30        15\n",
      "\n",
      "Máximo por Nível 2:\n",
      "          Coluna 1  Coluna 2  Coluna 3  Coluna 4\n",
      "Nível 2                                        \n",
      "1              82        78        46        77\n",
      "2              77        32        50        36\n"
     ]
    }
   ],
   "source": [
    "sum_level1 = df.groupby(level='Nível 1').sum()\n",
    "\n",
    "mean_level2 = df.groupby(level='Nível 2').mean()\n",
    "\n",
    "min_level1 = df.groupby(level='Nível 1').min()\n",
    "\n",
    "max_level2 = df.groupby(level='Nível 2').max()\n",
    "\n",
    "print(\"Soma por Nível 1:\\n\", sum_level1)\n",
    "print(\"\\nMédia por Nível 2:\\n\", mean_level2)\n",
    "print(\"\\nMínimo por Nível 1:\\n\", min_level1)\n",
    "print(\"\\nMáximo por Nível 2:\\n\", max_level2)"
   ]
  },
  {
   "cell_type": "markdown",
   "metadata": {},
   "source": [
    "## 3) Agora realize uma agregação (soma, por exemplo) considerando uma das colunas, ou seja, axis=1."
   ]
  },
  {
   "cell_type": "code",
   "execution_count": 52,
   "metadata": {},
   "outputs": [
    {
     "name": "stdout",
     "output_type": "stream",
     "text": [
      "Agregação ao longo das colunas (axis=1):\n",
      " Nível 1  Nível 2\n",
      "A        1          144\n",
      "         2          115\n",
      "B        1          187\n",
      "         2          157\n",
      "dtype: int64\n"
     ]
    }
   ],
   "source": [
    "agg_axis1 = df.sum(axis=1)\n",
    "print(\"Agregação ao longo das colunas (axis=1):\\n\", agg_axis1)\n"
   ]
  },
  {
   "cell_type": "markdown",
   "metadata": {},
   "source": [
    "## 4) Crie dois conjuntos de dados (muitos-para-um) e aplique uma junção interna e uma junção externa."
   ]
  },
  {
   "cell_type": "code",
   "execution_count": 58,
   "metadata": {},
   "outputs": [
    {
     "name": "stdout",
     "output_type": "stream",
     "text": [
      "Junção Interna (Inner Join):\n",
      "    ID  Nome     Cargo\n",
      "0   2   jao   Gerente\n",
      "1   3  jose  Analista\n",
      "Junção Externa (Outer Join):\n",
      "    ID   Nome       Cargo\n",
      "0   1    ana         NaN\n",
      "1   2    jao     Gerente\n",
      "2   3   jose    Analista\n",
      "3   4  joana         NaN\n",
      "4   5    NaN  Estagiário\n"
     ]
    }
   ],
   "source": [
    "# Primeiro conjunto de dados\n",
    "data1 = {\n",
    "    'ID': [1, 2, 3, 4],\n",
    "    'Nome': ['ana', 'jao', 'jose', 'joana']\n",
    "}\n",
    "\n",
    "df1 = pd.DataFrame(data1)\n",
    "\n",
    "# Segundo conjunto de dados (muitos-para-um)\n",
    "data2 = {\n",
    "    'ID': [2, 3, 5],\n",
    "    'Cargo': ['Gerente', 'Analista', 'Estagiário']\n",
    "}\n",
    "\n",
    "df2 = pd.DataFrame(data2)\n",
    "#junção interna\n",
    "inner_join = pd.merge(df1, df2, on='ID', how='inner')\n",
    "print(\"Junção Interna (Inner Join):\\n\", inner_join)\n",
    "#junção externa\n",
    "outer_join = pd.merge(df1, df2, on='ID', how='outer')\n",
    "print(\"Junção Externa (Outer Join):\\n\", outer_join)\n"
   ]
  },
  {
   "cell_type": "markdown",
   "metadata": {},
   "source": [
    "## 5) Localize linhas do conjunto de dados gerado no exercício anterior considerando determinado critério de localização. "
   ]
  },
  {
   "cell_type": "code",
   "execution_count": 59,
   "metadata": {},
   "outputs": [
    {
     "name": "stdout",
     "output_type": "stream",
     "text": [
      "Linhas onde o cargo é 'Gerente':\n",
      "    ID Nome    Cargo\n",
      "0   2  jao  Gerente\n"
     ]
    }
   ],
   "source": [
    "# Localize linhas onde o cargo seja \"Gerente\"\n",
    "gerentes = inner_join.loc[inner_join['Cargo'] == 'Gerente']\n",
    "print(\"Linhas onde o cargo é 'Gerente':\\n\", gerentes)\n"
   ]
  },
  {
   "cell_type": "markdown",
   "metadata": {},
   "source": [
    "## 6) Com base no conjunto de dados abaixo realize algumas consultas utilizando o método loc."
   ]
  },
  {
   "cell_type": "code",
   "execution_count": 61,
   "metadata": {},
   "outputs": [
    {
     "name": "stdout",
     "output_type": "stream",
     "text": [
      "Linhas onde a idade é maior que 30:\n",
      "           Age  Color    Food  Height  Score State\n",
      "Penelope   40  White   Apple      80    3.3    AL\n",
      "Dean       32   Gray  Cheese     180    1.8    AK\n",
      "John       39    Red   Beans     150    2.2    TX\n",
      "Linhas onde o estado é igual a 'FL' ou igual a 'AL':\n",
      "           Age  Color   Food  Height  Score State\n",
      "Aaron      22    Red  Mango     120    9.0    FL\n",
      "Penelope   40  White  Apple      80    3.3    AL\n",
      "Linhas onde a idade é menor que 30 e o score maior que 8.0:\n",
      "            Age  Color   Food  Height  Score State\n",
      "Nick        20  Green   Lamb     170    8.3    TX\n",
      "Aaron       22    Red  Mango     120    9.0    FL\n",
      "Christina   28  Black  Melon     172    9.5    TX\n"
     ]
    }
   ],
   "source": [
    "df = pd.DataFrame({'Age': [30, 20, 22, 40, 32, 28, 39],\n",
    "                   'Color': ['Blue', 'Green', 'Red', 'White', 'Gray', 'Black',\n",
    "                             'Red'],\n",
    "                   'Food': ['Steak', 'Lamb', 'Mango', 'Apple', 'Cheese',\n",
    "                            'Melon', 'Beans'],\n",
    "                   'Height': [165, 170, 120, 80, 180, 172, 150],\n",
    "                   'Score': [4.6, 8.3, 9.0, 3.3, 1.8, 9.5, 2.2],\n",
    "                   'State': ['NY', 'TX', 'FL', 'AL', 'AK', 'TX', 'TX']\n",
    "                   },\n",
    "                  index=['Jane', 'Nick', 'Aaron', 'Penelope', 'Dean',\n",
    "                         'Christina', 'John'])\n",
    "df\n",
    "\n",
    "#Com base no conjunto de dados acima realize algumas consultas utilizando o método loc.\n",
    "# Selecione as linhas onde a idade é maior que 30\n",
    "print(\"Linhas onde a idade é maior que 30:\\n\", df.loc[df['Age'] > 30])\n",
    "\n",
    "# Selecione as linhas onde o estado é igual a \"FL\" ou igual a \"AL\"\n",
    "print(\"Linhas onde o estado é igual a 'FL' ou igual a 'AL':\\n\", df.loc[(df['State'] == 'FL') | (df['State'] == 'AL')])\n",
    "\n",
    "# Selecione as linhas onde a idade é menor que 30 e o score maior que 8.0\n",
    "print(\"Linhas onde a idade é menor que 30 e o score maior que 8.0:\\n\", df.loc[(df['Age'] < 30) & (df['Score'] > 8.0)])\n",
    "\n"
   ]
  },
  {
   "cell_type": "markdown",
   "metadata": {},
   "source": [
    "# 7) Crie três conjuntos de dados para representar uma relação N:M (Médico, Paciente e Consulta). A partir dos conjuntos realize a integração (merge)."
   ]
  },
  {
   "cell_type": "code",
   "execution_count": 63,
   "metadata": {},
   "outputs": [
    {
     "name": "stdout",
     "output_type": "stream",
     "text": [
      "Junção Interna (Inner Join):\n",
      "    ID  Nome     Cargo   Consulta\n",
      "0   2   jao   Gerente  Consulta2\n",
      "1   3  jose  Analista  Consulta3\n"
     ]
    }
   ],
   "source": [
    "# Conjunto de dados 1\n",
    "data1 = {\n",
    "    'ID': [1, 2, 3, 4],\n",
    "    'Nome': ['ana', 'jao', 'jose', 'joana']\n",
    "}\n",
    "\n",
    "df1 = pd.DataFrame(data1)\n",
    "\n",
    "# Conjunto de dados 2\n",
    "\n",
    "data2 = {\n",
    "    'ID': [2, 3, 5],\n",
    "    'Cargo': ['Gerente', 'Analista', 'Estagiário']\n",
    "}\n",
    "\n",
    "df2 = pd.DataFrame(data2)\n",
    "\n",
    "# Conjunto de dados 3\n",
    "\n",
    "data3 = {\n",
    "    'ID': [1, 2, 3, 4, 5],\n",
    "    'Consulta': ['Consulta1', 'Consulta2', 'Consulta3', 'Consulta4', 'Consulta5']\n",
    "}\n",
    "\n",
    "df3 = pd.DataFrame(data3)\n",
    "\n",
    "# Junção Interna (Inner Join)\n",
    "inner_join = pd.merge(df1, df2, on='ID', how='inner')\n",
    "inner_join = pd.merge(inner_join, df3, on='ID', how='inner')\n",
    "print(\"Junção Interna (Inner Join):\\n\", inner_join)\n"
   ]
  }
 ],
 "metadata": {
  "kernelspec": {
   "display_name": "Python 3.10.4 64-bit",
   "language": "python",
   "name": "python3"
  },
  "language_info": {
   "codemirror_mode": {
    "name": "ipython",
    "version": 3
   },
   "file_extension": ".py",
   "mimetype": "text/x-python",
   "name": "python",
   "nbconvert_exporter": "python",
   "pygments_lexer": "ipython3",
   "version": "3.11.4"
  },
  "vscode": {
   "interpreter": {
    "hash": "ea6272f363b121ac906328f9784414c4ff46af3cd325e9810fe97e6b132ab5cd"
   }
  }
 },
 "nbformat": 4,
 "nbformat_minor": 2
}
