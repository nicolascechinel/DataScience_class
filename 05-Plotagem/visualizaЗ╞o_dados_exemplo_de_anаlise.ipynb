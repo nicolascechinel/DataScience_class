{
 "cells": [
  {
   "cell_type": "markdown",
   "metadata": {},
   "source": [
    "# Exemplo de Análise de Dados"
   ]
  },
  {
   "cell_type": "markdown",
   "metadata": {},
   "source": [
    "## Introdução"
   ]
  },
  {
   "cell_type": "code",
   "execution_count": 1,
   "metadata": {},
   "outputs": [],
   "source": [
    "from numpy.random import randn\n",
    "import numpy as np\n",
    "np.random.seed(123)\n",
    "import os\n",
    "import matplotlib.pyplot as plt\n",
    "import pandas as pd\n",
    "plt.rc('figure', figsize=(10, 6))\n",
    "np.set_printoptions(precision=4)\n",
    "pd.options.display.max_rows = 20\n",
    "pd.options.display.float_format = '${:,.2f}'.format"
   ]
  },
  {
   "cell_type": "markdown",
   "metadata": {},
   "source": [
    "## Banco de Dados da Comissão Eleitoral Federal dos EUA em 2012"
   ]
  },
  {
   "cell_type": "code",
   "execution_count": 2,
   "metadata": {},
   "outputs": [
    {
     "name": "stderr",
     "output_type": "stream",
     "text": [
      "/tmp/ipykernel_3132/2358278720.py:2: DtypeWarning: Columns (6) have mixed types. Specify dtype option on import or set low_memory=False.\n",
      "  fec = pd.read_csv('P00000001-ALL.csv')\n"
     ]
    },
    {
     "name": "stdout",
     "output_type": "stream",
     "text": [
      "<class 'pandas.core.frame.DataFrame'>\n",
      "RangeIndex: 1001731 entries, 0 to 1001730\n",
      "Data columns (total 16 columns):\n",
      " #   Column             Non-Null Count    Dtype  \n",
      "---  ------             --------------    -----  \n",
      " 0   cmte_id            1001731 non-null  object \n",
      " 1   cand_id            1001731 non-null  object \n",
      " 2   cand_nm            1001731 non-null  object \n",
      " 3   contbr_nm          1001731 non-null  object \n",
      " 4   contbr_city        1001712 non-null  object \n",
      " 5   contbr_st          1001727 non-null  object \n",
      " 6   contbr_zip         1001620 non-null  object \n",
      " 7   contbr_employer    988002 non-null   object \n",
      " 8   contbr_occupation  993301 non-null   object \n",
      " 9   contb_receipt_amt  1001731 non-null  float64\n",
      " 10  contb_receipt_dt   1001731 non-null  object \n",
      " 11  receipt_desc       14166 non-null    object \n",
      " 12  memo_cd            92482 non-null    object \n",
      " 13  memo_text          97770 non-null    object \n",
      " 14  form_tp            1001731 non-null  object \n",
      " 15  file_num           1001731 non-null  int64  \n",
      "dtypes: float64(1), int64(1), object(14)\n",
      "memory usage: 122.3+ MB\n"
     ]
    }
   ],
   "source": [
    "low_memory=False\n",
    "fec = pd.read_csv('P00000001-ALL.csv')\n",
    "fec.info()"
   ]
  },
  {
   "cell_type": "code",
   "execution_count": 3,
   "metadata": {},
   "outputs": [
    {
     "data": {
      "text/plain": [
       "cmte_id                             C00431445\n",
       "cand_id                             P80003338\n",
       "cand_nm                         Obama, Barack\n",
       "contbr_nm                         ELLMAN, IRA\n",
       "contbr_city                             TEMPE\n",
       "contbr_st                                  AZ\n",
       "contbr_zip                          852816719\n",
       "contbr_employer      ARIZONA STATE UNIVERSITY\n",
       "contbr_occupation                   PROFESSOR\n",
       "contb_receipt_amt                      $50.00\n",
       "contb_receipt_dt                    01-DEC-11\n",
       "receipt_desc                              NaN\n",
       "memo_cd                                   NaN\n",
       "memo_text                                 NaN\n",
       "form_tp                                 SA17A\n",
       "file_num                               772372\n",
       "Name: 123456, dtype: object"
      ]
     },
     "execution_count": 3,
     "metadata": {},
     "output_type": "execute_result"
    }
   ],
   "source": [
    "fec.iloc[123456]"
   ]
  },
  {
   "cell_type": "code",
   "execution_count": 3,
   "metadata": {},
   "outputs": [
    {
     "name": "stdout",
     "output_type": "stream",
     "text": [
      "['Bachmann, Michelle' 'Romney, Mitt' 'Obama, Barack'\n",
      " \"Roemer, Charles E. 'Buddy' III\" 'Pawlenty, Timothy' 'Johnson, Gary Earl'\n",
      " 'Paul, Ron' 'Santorum, Rick' 'Cain, Herman' 'Gingrich, Newt'\n",
      " 'McCotter, Thaddeus G' 'Huntsman, Jon' 'Perry, Rick']\n"
     ]
    },
    {
     "data": {
      "text/plain": [
       "'Bachmann, Michelle'"
      ]
     },
     "execution_count": 3,
     "metadata": {},
     "output_type": "execute_result"
    }
   ],
   "source": [
    "unique_cands = fec.cand_nm.unique()\n",
    "print(unique_cands)\n",
    "unique_cands[0]"
   ]
  },
  {
   "cell_type": "code",
   "execution_count": 4,
   "metadata": {},
   "outputs": [],
   "source": [
    "parties = {'Bachmann, Michelle': 'Republican',\n",
    "           'Cain, Herman': 'Republican',\n",
    "           'Gingrich, Newt': 'Republican',\n",
    "           'Huntsman, Jon': 'Republican',\n",
    "           'Johnson, Gary Earl': 'Republican',\n",
    "           'McCotter, Thaddeus G': 'Republican',\n",
    "           'Obama, Barack': 'Democrat',\n",
    "           'Paul, Ron': 'Republican',\n",
    "           'Pawlenty, Timothy': 'Republican',\n",
    "           'Perry, Rick': 'Republican',\n",
    "           \"Roemer, Charles E. 'Buddy' III\": 'Republican',\n",
    "           'Romney, Mitt': 'Republican',\n",
    "           'Santorum, Rick': 'Republican'}"
   ]
  },
  {
   "cell_type": "code",
   "execution_count": 5,
   "metadata": {},
   "outputs": [
    {
     "data": {
      "text/plain": [
       "party\n",
       "Democrat      593746\n",
       "Republican    407985\n",
       "Name: count, dtype: int64"
      ]
     },
     "execution_count": 5,
     "metadata": {},
     "output_type": "execute_result"
    }
   ],
   "source": [
    "#fec.cand_nm[123456:123461]\n",
    "#fec.cand_nm[123456:123461].map(parties)\n",
    "# Adiciona o partido como uma nova coluna\n",
    "fec['party'] = fec.cand_nm.map(parties)\n",
    "fec['party'].value_counts()"
   ]
  },
  {
   "cell_type": "code",
   "execution_count": 6,
   "metadata": {},
   "outputs": [
    {
     "data": {
      "text/plain": [
       "contb_receipt_amt\n",
       "True     991475\n",
       "False     10256\n",
       "Name: count, dtype: int64"
      ]
     },
     "execution_count": 6,
     "metadata": {},
     "output_type": "execute_result"
    }
   ],
   "source": [
    "(fec.contb_receipt_amt > 0).value_counts()"
   ]
  },
  {
   "cell_type": "code",
   "execution_count": 7,
   "metadata": {},
   "outputs": [],
   "source": [
    "fec = fec[fec.contb_receipt_amt > 0]"
   ]
  },
  {
   "cell_type": "code",
   "execution_count": 11,
   "metadata": {},
   "outputs": [
    {
     "data": {
      "text/html": [
       "<div>\n",
       "<style scoped>\n",
       "    .dataframe tbody tr th:only-of-type {\n",
       "        vertical-align: middle;\n",
       "    }\n",
       "\n",
       "    .dataframe tbody tr th {\n",
       "        vertical-align: top;\n",
       "    }\n",
       "\n",
       "    .dataframe thead th {\n",
       "        text-align: right;\n",
       "    }\n",
       "</style>\n",
       "<table border=\"1\" class=\"dataframe\">\n",
       "  <thead>\n",
       "    <tr style=\"text-align: right;\">\n",
       "      <th></th>\n",
       "      <th>cmte_id</th>\n",
       "      <th>cand_id</th>\n",
       "      <th>cand_nm</th>\n",
       "      <th>contbr_nm</th>\n",
       "      <th>contbr_city</th>\n",
       "      <th>contbr_st</th>\n",
       "      <th>contbr_zip</th>\n",
       "      <th>contbr_employer</th>\n",
       "      <th>contbr_occupation</th>\n",
       "      <th>contb_receipt_amt</th>\n",
       "      <th>contb_receipt_dt</th>\n",
       "      <th>receipt_desc</th>\n",
       "      <th>memo_cd</th>\n",
       "      <th>memo_text</th>\n",
       "      <th>form_tp</th>\n",
       "      <th>file_num</th>\n",
       "      <th>party</th>\n",
       "    </tr>\n",
       "  </thead>\n",
       "  <tbody>\n",
       "    <tr>\n",
       "      <th>411</th>\n",
       "      <td>C00431171</td>\n",
       "      <td>P80003353</td>\n",
       "      <td>Romney, Mitt</td>\n",
       "      <td>ELDERBAUM, WILLIAM</td>\n",
       "      <td>DPO</td>\n",
       "      <td>AA</td>\n",
       "      <td>$340,230,183.00</td>\n",
       "      <td>US GOVERNMENT</td>\n",
       "      <td>FOREIGN SERVICE OFFICER</td>\n",
       "      <td>$25.00</td>\n",
       "      <td>01-FEB-12</td>\n",
       "      <td>NaN</td>\n",
       "      <td>NaN</td>\n",
       "      <td>NaN</td>\n",
       "      <td>SA17A</td>\n",
       "      <td>780124</td>\n",
       "      <td>Republican</td>\n",
       "    </tr>\n",
       "    <tr>\n",
       "      <th>412</th>\n",
       "      <td>C00431171</td>\n",
       "      <td>P80003353</td>\n",
       "      <td>Romney, Mitt</td>\n",
       "      <td>ELDERBAUM, WILLIAM</td>\n",
       "      <td>DPO</td>\n",
       "      <td>AA</td>\n",
       "      <td>$340,230,183.00</td>\n",
       "      <td>US GOVERNMENT</td>\n",
       "      <td>FOREIGN SERVICE OFFICER</td>\n",
       "      <td>$110.00</td>\n",
       "      <td>01-FEB-12</td>\n",
       "      <td>NaN</td>\n",
       "      <td>NaN</td>\n",
       "      <td>NaN</td>\n",
       "      <td>SA17A</td>\n",
       "      <td>780124</td>\n",
       "      <td>Republican</td>\n",
       "    </tr>\n",
       "    <tr>\n",
       "      <th>413</th>\n",
       "      <td>C00431171</td>\n",
       "      <td>P80003353</td>\n",
       "      <td>Romney, Mitt</td>\n",
       "      <td>CARLSEN, RICHARD</td>\n",
       "      <td>APO</td>\n",
       "      <td>AE</td>\n",
       "      <td>$91,280,020.00</td>\n",
       "      <td>DEFENSE INTELLIGENCE AGENCY</td>\n",
       "      <td>INTELLIGENCE ANALYST</td>\n",
       "      <td>$250.00</td>\n",
       "      <td>13-APR-12</td>\n",
       "      <td>NaN</td>\n",
       "      <td>NaN</td>\n",
       "      <td>NaN</td>\n",
       "      <td>SA17A</td>\n",
       "      <td>785689</td>\n",
       "      <td>Republican</td>\n",
       "    </tr>\n",
       "    <tr>\n",
       "      <th>414</th>\n",
       "      <td>C00431171</td>\n",
       "      <td>P80003353</td>\n",
       "      <td>Romney, Mitt</td>\n",
       "      <td>DELUCA, PIERRE</td>\n",
       "      <td>APO</td>\n",
       "      <td>AE</td>\n",
       "      <td>$91,280,005.00</td>\n",
       "      <td>CISCO</td>\n",
       "      <td>ENGINEER</td>\n",
       "      <td>$30.00</td>\n",
       "      <td>21-AUG-11</td>\n",
       "      <td>NaN</td>\n",
       "      <td>NaN</td>\n",
       "      <td>NaN</td>\n",
       "      <td>SA17A</td>\n",
       "      <td>760261</td>\n",
       "      <td>Republican</td>\n",
       "    </tr>\n",
       "    <tr>\n",
       "      <th>415</th>\n",
       "      <td>C00431171</td>\n",
       "      <td>P80003353</td>\n",
       "      <td>Romney, Mitt</td>\n",
       "      <td>SARGENT, MICHAEL</td>\n",
       "      <td>APO</td>\n",
       "      <td>AE</td>\n",
       "      <td>$90,120,092.00</td>\n",
       "      <td>RAYTHEON TECHNICAL SERVICES CORP</td>\n",
       "      <td>COMPUTER SYSTEMS ENGINEER</td>\n",
       "      <td>$100.00</td>\n",
       "      <td>07-MAR-12</td>\n",
       "      <td>NaN</td>\n",
       "      <td>NaN</td>\n",
       "      <td>NaN</td>\n",
       "      <td>SA17A</td>\n",
       "      <td>780128</td>\n",
       "      <td>Republican</td>\n",
       "    </tr>\n",
       "  </tbody>\n",
       "</table>\n",
       "</div>"
      ],
      "text/plain": [
       "       cmte_id    cand_id       cand_nm           contbr_nm contbr_city  \\\n",
       "411  C00431171  P80003353  Romney, Mitt  ELDERBAUM, WILLIAM         DPO   \n",
       "412  C00431171  P80003353  Romney, Mitt  ELDERBAUM, WILLIAM         DPO   \n",
       "413  C00431171  P80003353  Romney, Mitt    CARLSEN, RICHARD         APO   \n",
       "414  C00431171  P80003353  Romney, Mitt      DELUCA, PIERRE         APO   \n",
       "415  C00431171  P80003353  Romney, Mitt    SARGENT, MICHAEL         APO   \n",
       "\n",
       "    contbr_st      contbr_zip                   contbr_employer  \\\n",
       "411        AA $340,230,183.00                     US GOVERNMENT   \n",
       "412        AA $340,230,183.00                     US GOVERNMENT   \n",
       "413        AE  $91,280,020.00       DEFENSE INTELLIGENCE AGENCY   \n",
       "414        AE  $91,280,005.00                             CISCO   \n",
       "415        AE  $90,120,092.00  RAYTHEON TECHNICAL SERVICES CORP   \n",
       "\n",
       "             contbr_occupation  contb_receipt_amt contb_receipt_dt  \\\n",
       "411    FOREIGN SERVICE OFFICER             $25.00        01-FEB-12   \n",
       "412    FOREIGN SERVICE OFFICER            $110.00        01-FEB-12   \n",
       "413       INTELLIGENCE ANALYST            $250.00        13-APR-12   \n",
       "414                   ENGINEER             $30.00        21-AUG-11   \n",
       "415  COMPUTER SYSTEMS ENGINEER            $100.00        07-MAR-12   \n",
       "\n",
       "    receipt_desc memo_cd memo_text form_tp  file_num       party  \n",
       "411          NaN     NaN       NaN   SA17A    780124  Republican  \n",
       "412          NaN     NaN       NaN   SA17A    780124  Republican  \n",
       "413          NaN     NaN       NaN   SA17A    785689  Republican  \n",
       "414          NaN     NaN       NaN   SA17A    760261  Republican  \n",
       "415          NaN     NaN       NaN   SA17A    780128  Republican  "
      ]
     },
     "execution_count": 11,
     "metadata": {},
     "output_type": "execute_result"
    }
   ],
   "source": [
    "fec_mrbo = fec[fec.cand_nm.isin(['Obama, Barack', 'Romney, Mitt'])]\n",
    "fec_mrbo['cand_nm'].value_counts()\n",
    "fec_mrbo.head()"
   ]
  },
  {
   "cell_type": "markdown",
   "metadata": {},
   "source": [
    "### Estatísticas de Doação por Ocupação e Empregador"
   ]
  },
  {
   "cell_type": "code",
   "execution_count": 9,
   "metadata": {},
   "outputs": [
    {
     "data": {
      "text/plain": [
       "contbr_occupation\n",
       "RETIRED                                   233990\n",
       "INFORMATION REQUESTED                      35107\n",
       "ATTORNEY                                   34286\n",
       "HOMEMAKER                                  29931\n",
       "PHYSICIAN                                  23432\n",
       "INFORMATION REQUESTED PER BEST EFFORTS     21138\n",
       "ENGINEER                                   14334\n",
       "TEACHER                                    13990\n",
       "CONSULTANT                                 13273\n",
       "PROFESSOR                                  12555\n",
       "Name: count, dtype: int64"
      ]
     },
     "execution_count": 9,
     "metadata": {},
     "output_type": "execute_result"
    }
   ],
   "source": [
    "fec.contbr_occupation.value_counts()[:10]"
   ]
  },
  {
   "cell_type": "code",
   "execution_count": 10,
   "metadata": {},
   "outputs": [
    {
     "data": {
      "text/html": [
       "<div>\n",
       "<style scoped>\n",
       "    .dataframe tbody tr th:only-of-type {\n",
       "        vertical-align: middle;\n",
       "    }\n",
       "\n",
       "    .dataframe tbody tr th {\n",
       "        vertical-align: top;\n",
       "    }\n",
       "\n",
       "    .dataframe thead th {\n",
       "        text-align: right;\n",
       "    }\n",
       "</style>\n",
       "<table border=\"1\" class=\"dataframe\">\n",
       "  <thead>\n",
       "    <tr style=\"text-align: right;\">\n",
       "      <th>party</th>\n",
       "      <th>Democrat</th>\n",
       "      <th>Republican</th>\n",
       "    </tr>\n",
       "    <tr>\n",
       "      <th>contbr_occupation</th>\n",
       "      <th></th>\n",
       "      <th></th>\n",
       "    </tr>\n",
       "  </thead>\n",
       "  <tbody>\n",
       "    <tr>\n",
       "      <th>ATTORNEY</th>\n",
       "      <td>$11,141,982.97</td>\n",
       "      <td>$7,477,194.43</td>\n",
       "    </tr>\n",
       "    <tr>\n",
       "      <th>C.E.O.</th>\n",
       "      <td>$1,690.00</td>\n",
       "      <td>$2,592,983.11</td>\n",
       "    </tr>\n",
       "    <tr>\n",
       "      <th>CEO</th>\n",
       "      <td>$2,073,284.79</td>\n",
       "      <td>$1,618,057.41</td>\n",
       "    </tr>\n",
       "    <tr>\n",
       "      <th>CONSULTANT</th>\n",
       "      <td>$2,459,912.71</td>\n",
       "      <td>$2,544,725.45</td>\n",
       "    </tr>\n",
       "    <tr>\n",
       "      <th>ENGINEER</th>\n",
       "      <td>$951,525.55</td>\n",
       "      <td>$1,818,373.70</td>\n",
       "    </tr>\n",
       "    <tr>\n",
       "      <th>EXECUTIVE</th>\n",
       "      <td>$1,355,161.05</td>\n",
       "      <td>$4,138,850.09</td>\n",
       "    </tr>\n",
       "    <tr>\n",
       "      <th>HOMEMAKER</th>\n",
       "      <td>$4,248,875.80</td>\n",
       "      <td>$13,634,275.78</td>\n",
       "    </tr>\n",
       "    <tr>\n",
       "      <th>INFORMATION REQUESTED</th>\n",
       "      <td>$4,866,973.96</td>\n",
       "      <td>$3,896,615.74</td>\n",
       "    </tr>\n",
       "    <tr>\n",
       "      <th>INFORMATION REQUESTED PER BEST EFFORTS</th>\n",
       "      <td>NaN</td>\n",
       "      <td>$16,340,533.64</td>\n",
       "    </tr>\n",
       "    <tr>\n",
       "      <th>INVESTOR</th>\n",
       "      <td>$884,133.00</td>\n",
       "      <td>$2,431,768.92</td>\n",
       "    </tr>\n",
       "    <tr>\n",
       "      <th>LAWYER</th>\n",
       "      <td>$3,160,478.87</td>\n",
       "      <td>$391,224.32</td>\n",
       "    </tr>\n",
       "    <tr>\n",
       "      <th>MANAGER</th>\n",
       "      <td>$762,883.22</td>\n",
       "      <td>$1,444,532.37</td>\n",
       "    </tr>\n",
       "    <tr>\n",
       "      <th>OWNER</th>\n",
       "      <td>$1,001,567.36</td>\n",
       "      <td>$2,408,286.92</td>\n",
       "    </tr>\n",
       "    <tr>\n",
       "      <th>PHYSICIAN</th>\n",
       "      <td>$3,735,124.94</td>\n",
       "      <td>$3,594,320.24</td>\n",
       "    </tr>\n",
       "    <tr>\n",
       "      <th>PRESIDENT</th>\n",
       "      <td>$1,878,509.95</td>\n",
       "      <td>$4,720,923.76</td>\n",
       "    </tr>\n",
       "    <tr>\n",
       "      <th>PROFESSOR</th>\n",
       "      <td>$2,165,071.08</td>\n",
       "      <td>$296,702.73</td>\n",
       "    </tr>\n",
       "    <tr>\n",
       "      <th>REAL ESTATE</th>\n",
       "      <td>$528,902.09</td>\n",
       "      <td>$1,625,902.25</td>\n",
       "    </tr>\n",
       "    <tr>\n",
       "      <th>RETIRED</th>\n",
       "      <td>$25,305,116.38</td>\n",
       "      <td>$23,561,244.49</td>\n",
       "    </tr>\n",
       "    <tr>\n",
       "      <th>SELF-EMPLOYED</th>\n",
       "      <td>$672,393.40</td>\n",
       "      <td>$1,640,252.54</td>\n",
       "    </tr>\n",
       "  </tbody>\n",
       "</table>\n",
       "</div>"
      ],
      "text/plain": [
       "party                                        Democrat     Republican\n",
       "contbr_occupation                                                   \n",
       "ATTORNEY                               $11,141,982.97  $7,477,194.43\n",
       "C.E.O.                                      $1,690.00  $2,592,983.11\n",
       "CEO                                     $2,073,284.79  $1,618,057.41\n",
       "CONSULTANT                              $2,459,912.71  $2,544,725.45\n",
       "ENGINEER                                  $951,525.55  $1,818,373.70\n",
       "EXECUTIVE                               $1,355,161.05  $4,138,850.09\n",
       "HOMEMAKER                               $4,248,875.80 $13,634,275.78\n",
       "INFORMATION REQUESTED                   $4,866,973.96  $3,896,615.74\n",
       "INFORMATION REQUESTED PER BEST EFFORTS            NaN $16,340,533.64\n",
       "INVESTOR                                  $884,133.00  $2,431,768.92\n",
       "LAWYER                                  $3,160,478.87    $391,224.32\n",
       "MANAGER                                   $762,883.22  $1,444,532.37\n",
       "OWNER                                   $1,001,567.36  $2,408,286.92\n",
       "PHYSICIAN                               $3,735,124.94  $3,594,320.24\n",
       "PRESIDENT                               $1,878,509.95  $4,720,923.76\n",
       "PROFESSOR                               $2,165,071.08    $296,702.73\n",
       "REAL ESTATE                               $528,902.09  $1,625,902.25\n",
       "RETIRED                                $25,305,116.38 $23,561,244.49\n",
       "SELF-EMPLOYED                             $672,393.40  $1,640,252.54"
      ]
     },
     "execution_count": 10,
     "metadata": {},
     "output_type": "execute_result"
    }
   ],
   "source": [
    "by_occupation = fec.pivot_table('contb_receipt_amt',\n",
    "                                index='contbr_occupation',\n",
    "                                columns='party', aggfunc='sum')\n",
    "over_2mm = by_occupation[by_occupation.sum(1) > 2000000]\n",
    "over_2mm"
   ]
  },
  {
   "cell_type": "code",
   "execution_count": 12,
   "metadata": {},
   "outputs": [
    {
     "data": {
      "text/plain": [
       "<Figure size 1000x600 with 0 Axes>"
      ]
     },
     "execution_count": 12,
     "metadata": {},
     "output_type": "execute_result"
    },
    {
     "data": {
      "text/plain": [
       "<Figure size 1000x600 with 0 Axes>"
      ]
     },
     "metadata": {},
     "output_type": "display_data"
    }
   ],
   "source": [
    "plt.figure()"
   ]
  },
  {
   "cell_type": "code",
   "execution_count": 13,
   "metadata": {},
   "outputs": [
    {
     "data": {
      "text/plain": [
       "<Axes: ylabel='contbr_occupation'>"
      ]
     },
     "execution_count": 13,
     "metadata": {},
     "output_type": "execute_result"
    },
    {
     "data": {
      "image/png": "[encoded data removed]",
      "text/plain": [
       "<Figure size 1000x600 with 1 Axes>"
      ]
     },
     "metadata": {},
     "output_type": "display_data"
    }
   ],
   "source": [
    "over_2mm.plot(kind='barh')"
   ]
  },
  {
   "cell_type": "markdown",
   "metadata": {},
   "source": [
    "### Separando os Valores das Doações em Buckets"
   ]
  },
  {
   "cell_type": "code",
   "execution_count": 14,
   "metadata": {},
   "outputs": [
    {
     "data": {
      "text/plain": [
       "411         (10, 100]\n",
       "412       (100, 1000]\n",
       "413       (100, 1000]\n",
       "414         (10, 100]\n",
       "415         (10, 100]\n",
       "             ...     \n",
       "701381      (10, 100]\n",
       "701382    (100, 1000]\n",
       "701383        (1, 10]\n",
       "701384      (10, 100]\n",
       "701385    (100, 1000]\n",
       "Name: contb_receipt_amt, Length: 694282, dtype: category\n",
       "Categories (8, interval[int64, right]): [(0, 1] < (1, 10] < (10, 100] < (100, 1000] < (1000, 10000] < (10000, 100000] < (100000, 1000000] < (1000000, 10000000]]"
      ]
     },
     "execution_count": 14,
     "metadata": {},
     "output_type": "execute_result"
    }
   ],
   "source": [
    "bins = np.array([0, 1, 10, 100, 1000, 10000,\n",
    "                 100000, 1000000, 10000000])\n",
    "labels = pd.cut(fec_mrbo.contb_receipt_amt, bins)\n",
    "labels"
   ]
  },
  {
   "cell_type": "code",
   "execution_count": 15,
   "metadata": {
    "scrolled": true
   },
   "outputs": [
    {
     "data": {
      "text/html": [
       "<div>\n",
       "<style scoped>\n",
       "    .dataframe tbody tr th:only-of-type {\n",
       "        vertical-align: middle;\n",
       "    }\n",
       "\n",
       "    .dataframe tbody tr th {\n",
       "        vertical-align: top;\n",
       "    }\n",
       "\n",
       "    .dataframe thead th {\n",
       "        text-align: right;\n",
       "    }\n",
       "</style>\n",
       "<table border=\"1\" class=\"dataframe\">\n",
       "  <thead>\n",
       "    <tr style=\"text-align: right;\">\n",
       "      <th>cand_nm</th>\n",
       "      <th>Obama, Barack</th>\n",
       "      <th>Romney, Mitt</th>\n",
       "    </tr>\n",
       "    <tr>\n",
       "      <th>contb_receipt_amt</th>\n",
       "      <th></th>\n",
       "      <th></th>\n",
       "    </tr>\n",
       "  </thead>\n",
       "  <tbody>\n",
       "    <tr>\n",
       "      <th>(0, 1]</th>\n",
       "      <td>493</td>\n",
       "      <td>77</td>\n",
       "    </tr>\n",
       "    <tr>\n",
       "      <th>(1, 10]</th>\n",
       "      <td>40070</td>\n",
       "      <td>3681</td>\n",
       "    </tr>\n",
       "    <tr>\n",
       "      <th>(10, 100]</th>\n",
       "      <td>372280</td>\n",
       "      <td>31853</td>\n",
       "    </tr>\n",
       "    <tr>\n",
       "      <th>(100, 1000]</th>\n",
       "      <td>153991</td>\n",
       "      <td>43357</td>\n",
       "    </tr>\n",
       "    <tr>\n",
       "      <th>(1000, 10000]</th>\n",
       "      <td>22284</td>\n",
       "      <td>26186</td>\n",
       "    </tr>\n",
       "    <tr>\n",
       "      <th>(10000, 100000]</th>\n",
       "      <td>2</td>\n",
       "      <td>1</td>\n",
       "    </tr>\n",
       "    <tr>\n",
       "      <th>(100000, 1000000]</th>\n",
       "      <td>3</td>\n",
       "      <td>0</td>\n",
       "    </tr>\n",
       "    <tr>\n",
       "      <th>(1000000, 10000000]</th>\n",
       "      <td>4</td>\n",
       "      <td>0</td>\n",
       "    </tr>\n",
       "  </tbody>\n",
       "</table>\n",
       "</div>"
      ],
      "text/plain": [
       "cand_nm              Obama, Barack  Romney, Mitt\n",
       "contb_receipt_amt                               \n",
       "(0, 1]                         493            77\n",
       "(1, 10]                      40070          3681\n",
       "(10, 100]                   372280         31853\n",
       "(100, 1000]                 153991         43357\n",
       "(1000, 10000]                22284         26186\n",
       "(10000, 100000]                  2             1\n",
       "(100000, 1000000]                3             0\n",
       "(1000000, 10000000]              4             0"
      ]
     },
     "execution_count": 15,
     "metadata": {},
     "output_type": "execute_result"
    }
   ],
   "source": [
    "grouped = fec_mrbo.groupby(['cand_nm', labels])\n",
    "pd.options.display.float_format = '{:,.2f}'.format\n",
    "grouped.size().unstack(0)"
   ]
  },
  {
   "cell_type": "code",
   "execution_count": 16,
   "metadata": {},
   "outputs": [
    {
     "data": {
      "text/plain": [
       "<Figure size 1000x600 with 0 Axes>"
      ]
     },
     "metadata": {},
     "output_type": "display_data"
    }
   ],
   "source": [
    "plt.figure()\n",
    "pd.options.display.float_format = '${:,.2f}'.format"
   ]
  },
  {
   "cell_type": "code",
   "execution_count": 23,
   "metadata": {},
   "outputs": [
    {
     "name": "stdout",
     "output_type": "stream",
     "text": [
      "cand_nm    Obama, Barack  Romney, Mitt\n",
      "contbr_st                             \n",
      "AA             56,405.00        135.00\n",
      "AB              2,048.00           NaN\n",
      "AE             42,973.75      5,680.00\n",
      "AK            281,840.15     86,204.24\n",
      "AL            543,123.48    527,303.51\n",
      "...                  ...           ...\n",
      "WI          1,130,155.46    270,316.32\n",
      "WV            169,154.47    126,725.12\n",
      "WY            194,046.74    252,595.84\n",
      "XX                   NaN    400,250.00\n",
      "ZZ              5,963.00           NaN\n",
      "\n",
      "[67 rows x 2 columns]\n",
      "cand_nm    Obama, Barack  Romney, Mitt\n",
      "contbr_st                             \n",
      "AA                  1.00          0.00\n",
      "AB                  1.00           NaN\n",
      "AE                  0.88          0.12\n",
      "AK                  0.77          0.23\n",
      "AL                  0.51          0.49\n",
      "...                  ...           ...\n",
      "WI                  0.81          0.19\n",
      "WV                  0.57          0.43\n",
      "WY                  0.43          0.57\n",
      "XX                   NaN          1.00\n",
      "ZZ                  1.00           NaN\n",
      "\n",
      "[67 rows x 2 columns]\n"
     ]
    },
    {
     "data": {
      "text/plain": [
       "<Axes: ylabel='contbr_st'>"
      ]
     },
     "execution_count": 23,
     "metadata": {},
     "output_type": "execute_result"
    },
    {
     "data": {
      "image/png": "[encoded data removed]",
      "text/plain": [
       "<Figure size 1000x600 with 1 Axes>"
      ]
     },
     "metadata": {},
     "output_type": "display_data"
    }
   ],
   "source": [
    "bucket_sums = grouped.contb_receipt_amt.sum().unstack(0)\n",
    "print(bucket_sums)\n",
    "normed_sums = bucket_sums.div(bucket_sums.sum(axis=1), axis=0)\n",
    "print(normed_sums)\n",
    "normed_sums.plot(kind='barh')"
   ]
  },
  {
   "cell_type": "markdown",
   "metadata": {},
   "source": [
    "### Estatísticas de Doação por Estado"
   ]
  },
  {
   "cell_type": "code",
   "execution_count": 19,
   "metadata": {},
   "outputs": [
    {
     "data": {
      "text/html": [
       "<div>\n",
       "<style scoped>\n",
       "    .dataframe tbody tr th:only-of-type {\n",
       "        vertical-align: middle;\n",
       "    }\n",
       "\n",
       "    .dataframe tbody tr th {\n",
       "        vertical-align: top;\n",
       "    }\n",
       "\n",
       "    .dataframe thead th {\n",
       "        text-align: right;\n",
       "    }\n",
       "</style>\n",
       "<table border=\"1\" class=\"dataframe\">\n",
       "  <thead>\n",
       "    <tr style=\"text-align: right;\">\n",
       "      <th>cand_nm</th>\n",
       "      <th>Obama, Barack</th>\n",
       "      <th>Romney, Mitt</th>\n",
       "    </tr>\n",
       "    <tr>\n",
       "      <th>contbr_st</th>\n",
       "      <th></th>\n",
       "      <th></th>\n",
       "    </tr>\n",
       "  </thead>\n",
       "  <tbody>\n",
       "    <tr>\n",
       "      <th>AK</th>\n",
       "      <td>$281,840.15</td>\n",
       "      <td>$86,204.24</td>\n",
       "    </tr>\n",
       "    <tr>\n",
       "      <th>AL</th>\n",
       "      <td>$543,123.48</td>\n",
       "      <td>$527,303.51</td>\n",
       "    </tr>\n",
       "    <tr>\n",
       "      <th>AR</th>\n",
       "      <td>$359,247.28</td>\n",
       "      <td>$105,556.00</td>\n",
       "    </tr>\n",
       "    <tr>\n",
       "      <th>AZ</th>\n",
       "      <td>$1,506,476.98</td>\n",
       "      <td>$1,888,436.23</td>\n",
       "    </tr>\n",
       "    <tr>\n",
       "      <th>CA</th>\n",
       "      <td>$23,824,984.24</td>\n",
       "      <td>$11,237,636.60</td>\n",
       "    </tr>\n",
       "    <tr>\n",
       "      <th>...</th>\n",
       "      <td>...</td>\n",
       "      <td>...</td>\n",
       "    </tr>\n",
       "    <tr>\n",
       "      <th>WA</th>\n",
       "      <td>$4,250,933.16</td>\n",
       "      <td>$1,341,521.56</td>\n",
       "    </tr>\n",
       "    <tr>\n",
       "      <th>WI</th>\n",
       "      <td>$1,130,155.46</td>\n",
       "      <td>$270,316.32</td>\n",
       "    </tr>\n",
       "    <tr>\n",
       "      <th>WV</th>\n",
       "      <td>$169,154.47</td>\n",
       "      <td>$126,725.12</td>\n",
       "    </tr>\n",
       "    <tr>\n",
       "      <th>WY</th>\n",
       "      <td>$194,046.74</td>\n",
       "      <td>$252,595.84</td>\n",
       "    </tr>\n",
       "    <tr>\n",
       "      <th>XX</th>\n",
       "      <td>$0.00</td>\n",
       "      <td>$400,250.00</td>\n",
       "    </tr>\n",
       "  </tbody>\n",
       "</table>\n",
       "<p>52 rows × 2 columns</p>\n",
       "</div>"
      ],
      "text/plain": [
       "cand_nm    Obama, Barack   Romney, Mitt\n",
       "contbr_st                              \n",
       "AK           $281,840.15     $86,204.24\n",
       "AL           $543,123.48    $527,303.51\n",
       "AR           $359,247.28    $105,556.00\n",
       "AZ         $1,506,476.98  $1,888,436.23\n",
       "CA        $23,824,984.24 $11,237,636.60\n",
       "...                  ...            ...\n",
       "WA         $4,250,933.16  $1,341,521.56\n",
       "WI         $1,130,155.46    $270,316.32\n",
       "WV           $169,154.47    $126,725.12\n",
       "WY           $194,046.74    $252,595.84\n",
       "XX                 $0.00    $400,250.00\n",
       "\n",
       "[52 rows x 2 columns]"
      ]
     },
     "execution_count": 19,
     "metadata": {},
     "output_type": "execute_result"
    }
   ],
   "source": [
    "grouped = fec_mrbo.groupby(['cand_nm', 'contbr_st'])\n",
    "totals = grouped.contb_receipt_amt.sum().unstack(0).fillna(0)\n",
    "totals = totals[totals.sum(1) > 100000]\n",
    "totals"
   ]
  },
  {
   "cell_type": "code",
   "execution_count": 21,
   "metadata": {},
   "outputs": [
    {
     "name": "stdout",
     "output_type": "stream",
     "text": [
      "cand_nm    Obama, Barack  Romney, Mitt\n",
      "contbr_st                             \n",
      "AK                 $0.77         $0.23\n",
      "AL                 $0.51         $0.49\n",
      "AR                 $0.77         $0.23\n",
      "AZ                 $0.44         $0.56\n",
      "CA                 $0.68         $0.32\n",
      "CO                 $0.59         $0.41\n",
      "CT                 $0.37         $0.63\n",
      "DC                 $0.81         $0.19\n",
      "DE                 $0.80         $0.20\n",
      "FL                 $0.47         $0.53\n"
     ]
    },
    {
     "data": {
      "text/plain": [
       "<Axes: ylabel='contbr_st'>"
      ]
     },
     "execution_count": 21,
     "metadata": {},
     "output_type": "execute_result"
    },
    {
     "data": {
      "image/png": "[encoded data removed]",
      "text/plain": [
       "<Figure size 1000x600 with 1 Axes>"
      ]
     },
     "metadata": {},
     "output_type": "display_data"
    }
   ],
   "source": [
    "percent = totals.div(totals.sum(1), axis=0)\n",
    "print(percent[:10])\n",
    "percent[:10].plot(kind='barh')"
   ]
  },
  {
   "cell_type": "code",
   "execution_count": null,
   "metadata": {},
   "outputs": [],
   "source": []
  },
  {
   "cell_type": "code",
   "execution_count": null,
   "metadata": {},
   "outputs": [],
   "source": []
  }
 ],
 "metadata": {
  "kernelspec": {
   "display_name": "Python 3",
   "language": "python",
   "name": "python3"
  },
  "language_info": {
   "codemirror_mode": {
    "name": "ipython",
    "version": 3
   },
   "file_extension": ".py",
   "mimetype": "text/x-python",
   "name": "python",
   "nbconvert_exporter": "python",
   "pygments_lexer": "ipython3",
   "version": "3.11.4"
  }
 },
 "nbformat": 4,
 "nbformat_minor": 1
}
