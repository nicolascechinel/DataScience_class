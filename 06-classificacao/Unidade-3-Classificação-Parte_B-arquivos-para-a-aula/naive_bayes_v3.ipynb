{
 "cells": [
  {
   "cell_type": "code",
   "execution_count": 1,
   "metadata": {},
   "outputs": [],
   "source": [
    "# Carrega as bibliotecas\n",
    "import pandas as pd"
   ]
  },
  {
   "cell_type": "code",
   "execution_count": 2,
   "metadata": {},
   "outputs": [],
   "source": [
    "# Define as colunas\n",
    "col_names = ['weather','temperature','humidity','wind','label']\n",
    "# carrega o dataset\n",
    "ds = pd.read_csv(\"jogar_simbolico.csv\", header=None, names=col_names)"
   ]
  },
  {
   "cell_type": "code",
   "execution_count": 3,
   "metadata": {},
   "outputs": [
    {
     "name": "stdout",
     "output_type": "stream",
     "text": [
      "Weather: [2 2 0 1 1 1 0 2 2 1 2 0 0 1]\n",
      "Temp: [1 1 1 2 0 0 0 2 0 2 2 2 1 2]\n",
      "Humidity: [0 0 0 0 1 1 1 0 1 1 1 0 1 0]\n",
      "Wind: [1 0 1 1 1 0 0 1 1 1 0 0 1 0]\n"
     ]
    }
   ],
   "source": [
    "# Importação de LabelEncoder\n",
    "from sklearn import preprocessing\n",
    "\n",
    "# criando labelEncoder\n",
    "le = preprocessing.LabelEncoder()\n",
    "\n",
    "# Convertendo os rótulos em números.\n",
    "weather_encoded=le.fit_transform(ds.weather)\n",
    "temp_encoded=le.fit_transform(ds.temperature)\n",
    "humidity_encoded=le.fit_transform(ds.humidity)\n",
    "wind_encoded=le.fit_transform(ds.wind)\n",
    "\n",
    "print(\"Weather:\",weather_encoded)\n",
    "print(\"Temp:\",temp_encoded)\n",
    "print(\"Humidity:\",humidity_encoded)\n",
    "print(\"Wind:\",wind_encoded)"
   ]
  },
  {
   "cell_type": "code",
   "execution_count": 4,
   "metadata": {},
   "outputs": [
    {
     "name": "stdout",
     "output_type": "stream",
     "text": [
      "label: [0 0 1 1 1 0 1 0 1 1 1 1 1 0]\n"
     ]
    }
   ],
   "source": [
    "# Convertendo rótulos em números\n",
    "label=le.fit_transform(ds.label)\n",
    "print(\"label:\",label)"
   ]
  },
  {
   "cell_type": "code",
   "execution_count": 5,
   "metadata": {},
   "outputs": [
    {
     "name": "stdout",
     "output_type": "stream",
     "text": [
      "[(2, 1, 0, 1), (2, 1, 0, 0), (0, 1, 0, 1), (1, 2, 0, 1), (1, 0, 1, 1), (1, 0, 1, 0), (0, 0, 1, 0), (2, 2, 0, 1), (2, 0, 1, 1), (1, 2, 1, 1), (2, 2, 1, 0), (0, 2, 0, 0), (0, 1, 1, 1), (1, 2, 0, 0)]\n"
     ]
    }
   ],
   "source": [
    "# Combinando weather and temp em uma simples lista de tuplas \n",
    "features=list(zip(weather_encoded, temp_encoded, humidity_encoded, wind_encoded))\n",
    "print(features)"
   ]
  },
  {
   "cell_type": "code",
   "execution_count": 10,
   "metadata": {},
   "outputs": [
    {
     "name": "stdout",
     "output_type": "stream",
     "text": [
      "Valor da predição: [1]\n",
      "Valor da predição: [0]\n"
     ]
    }
   ],
   "source": [
    "# Importando o modelo Naive Bayes\n",
    "from sklearn.naive_bayes import GaussianNB\n",
    "\n",
    "# Cria o classificador Naive Bayes\n",
    "model = GaussianNB()\n",
    "\n",
    "# Treina o modelo usando o conjunto de treinamento\n",
    "model.fit(features,label)\n",
    "\n",
    "# Realizanda a predição\n",
    "predicted= model.predict([[0,2,0,0]]) # 0:Overcast, 2:Mild, 0:High, 0:Strong\n",
    "print(\"Valor da predição:\", predicted)\n",
    "\n",
    "predicted= model.predict([[2,1,0,0]]) # 2:Sunny, 1:Hot, 0:High, 0:Strong\n",
    "print(\"Valor da predição:\", predicted)"
   ]
  },
  {
   "cell_type": "code",
   "execution_count": 20,
   "metadata": {},
   "outputs": [],
   "source": [
    "# Importa a função train_test_split\n",
    "from sklearn.model_selection import train_test_split # Import train_test_split function\n",
    "\n",
    "# Separa o conjunto de dados em treinamento e teste\n",
    "X_train, X_test, y_train, y_test = train_test_split(features, label, test_size=0.3) # 70% training and 30% test"
   ]
  },
  {
   "cell_type": "code",
   "execution_count": 21,
   "metadata": {},
   "outputs": [],
   "source": [
    "# Geração do Modelo\n",
    "\n",
    "# Importa o classificador\n",
    "from sklearn.naive_bayes import GaussianNB\n",
    "\n",
    "# Cria o classificador\n",
    "gnb = GaussianNB()\n",
    "\n",
    "# Treina o modelo usando o conjunto de treinamento\n",
    "gnb.fit(X_train, y_train)\n",
    "\n",
    "# Prediz a resposta para o conjunto de teste\n",
    "y_pred = gnb.predict(X_test)"
   ]
  },
  {
   "cell_type": "code",
   "execution_count": 22,
   "metadata": {},
   "outputs": [
    {
     "name": "stdout",
     "output_type": "stream",
     "text": [
      "Accuracy: 0.4\n"
     ]
    }
   ],
   "source": [
    "# Importa o módulo scikit-learn para cálculo da acurrácia\n",
    "from sklearn import metrics\n",
    "\n",
    "# Acurária do Modelo; com que frequência o classificador está correto?\n",
    "print(\"Accuracy:\",metrics.accuracy_score(y_test, y_pred))"
   ]
  },
  {
   "cell_type": "code",
   "execution_count": null,
   "metadata": {},
   "outputs": [],
   "source": []
  }
 ],
 "metadata": {
  "kernelspec": {
   "display_name": "Python 3",
   "language": "python",
   "name": "python3"
  },
  "language_info": {
   "codemirror_mode": {
    "name": "ipython",
    "version": 3
   },
   "file_extension": ".py",
   "mimetype": "text/x-python",
   "name": "python",
   "nbconvert_exporter": "python",
   "pygments_lexer": "ipython3",
   "version": "3.7.3"
  }
 },
 "nbformat": 4,
 "nbformat_minor": 2
}
