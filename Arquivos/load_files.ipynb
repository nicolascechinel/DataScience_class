{
 "cells": [
  {
   "cell_type": "code",
   "execution_count": null,
   "metadata": {},
   "outputs": [],
   "source": [
    "# COdigo para carregar varios arquivos csv, disponibilizados em varias pastas, em um unico dataframe pandas servindo para qualquer tipo de analise\n",
    "\n",
    "# Importando as bibliotecas\n",
    "import pandas as pd\n",
    "import numpy as np\n",
    "import os\n",
    "#Substitua path pela sua pasta\n",
    "print(\"Entre com o seu path:\")\n",
    "get_path = input()\n",
    "path = get_path\n",
    "list_paths = []\n",
    "for root, dirs, files in os.walk(path):\n",
    "    for file in files:\n",
    "        if file.endswith('.csv'):\n",
    "            list_paths.append(os.path.join(root, file))\n",
    "\n",
    "# Criando um dataframe vazio\n",
    "df = pd.DataFrame()\n",
    "\n",
    "# Loop para carregar os arquivos csv\n",
    "for path in list_paths:\n",
    "    df_temp = pd.read_csv(path, sep=\";\")\n",
    "    df = pd.concat([df, df_temp], ignore_index=True)\n",
    "    \n",
    "    \n",
    "\n",
    "# Visualizando o dataframe\n",
    "df\n",
    "    \n",
    "\n",
    "\n"
   ]
  }
 ],
 "metadata": {
  "kernelspec": {
   "display_name": "base",
   "language": "python",
   "name": "python3"
  },
  "language_info": {
   "codemirror_mode": {
    "name": "ipython",
    "version": 3
   },
   "file_extension": ".py",
   "mimetype": "text/x-python",
   "name": "python",
   "nbconvert_exporter": "python",
   "pygments_lexer": "ipython3",
   "version": "3.11.4"
  },
  "orig_nbformat": 4
 },
 "nbformat": 4,
 "nbformat_minor": 2
}
